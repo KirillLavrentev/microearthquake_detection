{
 "cells": [
  {
   "cell_type": "markdown",
   "metadata": {},
   "source": [
    "<p style=\"align: center;\"><img align=center src=\"https://mipt.ru/docs/download.php?code=mipt_eng_text_png\" width=500 height=450/></p>\n",
    "\n",
    "<h3 style=\"text-align: center;\"><b>Московский физико-технический институт</b></h3>\n",
    "<h3 style=\"text-align: center;\"><b>Магистерская программа \"Природные системы и безопасное освоение Арктики\"</b></h3>\n",
    "\n",
    "\n",
    "<h3 style=\"text-align: center;\"><b>Детектирование микроземлетрясений.</b></h3>\n",
    "\n",
    "    Работу выполнил: Лаврентьев Кирилл Андреевич\n",
    "\n",
    "    Научный руководитель: Крылов Артём Александрович\n",
    "    \n",
    "Ссылка на [проект][] в github.\n",
    "\n",
    "\n",
    "[проект]: https://github.com/KirillLavrentev/microearthquake_detection \"GitHub\""
   ]
  },
  {
   "cell_type": "markdown",
   "metadata": {},
   "source": [
    "### Навигация\n",
    "[1. Разбиваем данные](#Разбиваем-данные-на-train/test-перед-обучением-модели)\n",
    "\n",
    "[2. Обучение моделей](#Обучение-моделей)\n",
    "\n",
    "   [2.1. Обучаем модель RandomForestClassifier](#Обучаем-модель-RandomForestClassifier)\n",
    "\n",
    "   [2.2. Обучаем модель XGBClassifier](#Обучаем-модель-XGBClassifier)\n",
    "\n",
    "[3. Проверяем модель на тестовых данных](#Проверяем-модель-на-тестовых-данных)\n",
    "\n",
    "[4. Выводы](#Выводы)"
   ]
  },
  {
   "cell_type": "markdown",
   "metadata": {},
   "source": [
    "#### В этом ноутбуке модели обучаются на фильтрованных данных.\n",
    "<mark>*tr.filter('bandpass', freqmin=6, freqmax=16,corners=6)*</mark>"
   ]
  },
  {
   "cell_type": "markdown",
   "metadata": {},
   "source": [
    "### Разбиваем данные на train/test перед обучением модели"
   ]
  },
  {
   "cell_type": "code",
   "execution_count": 1,
   "metadata": {},
   "outputs": [],
   "source": [
    "import pandas as pd\n",
    "import xgboost\n",
    "from sklearn.model_selection import train_test_split\n",
    "from sklearn.metrics import roc_auc_score,f1_score\n",
    "from matplotlib import pyplot as plt\n",
    "import numpy as np\n",
    "import os\n",
    "import warnings\n",
    "warnings.filterwarnings(\"ignore\")\n",
    "\n",
    "target = 'earthquake'"
   ]
  },
  {
   "cell_type": "markdown",
   "metadata": {},
   "source": [
    "Прописываем пути к файлам."
   ]
  },
  {
   "cell_type": "code",
   "execution_count": 2,
   "metadata": {},
   "outputs": [],
   "source": [
    "# указываем тип ОС (Linux/Windows), так как на Windows запуск немного отличается\n",
    "OS = 'Linux'\n",
    "\n",
    "# откуда берем данные для построения\n",
    "path = \"/home/kl/Рабочий стол/Diploma_master/data/origin_in_csv_bandpass/\"\n",
    "\n",
    "# куда сохранить графики\n",
    "path_image = \"/home/kl/Рабочий стол/Diploma_master/graph_images/data_bandpass_marked_by_model/\""
   ]
  },
  {
   "cell_type": "markdown",
   "metadata": {},
   "source": [
    "Смотрим, как выглядит объединённый файл с данными, который был подготовлен ранее.\n",
    "\n",
    "Целевая переменная называется **earthquake**, 1 $-$ землетрясение есть, 0 $-$ землетрясения нет."
   ]
  },
  {
   "cell_type": "code",
   "execution_count": 3,
   "metadata": {},
   "outputs": [
    {
     "data": {
      "text/html": [
       "<div>\n",
       "<style scoped>\n",
       "    .dataframe tbody tr th:only-of-type {\n",
       "        vertical-align: middle;\n",
       "    }\n",
       "\n",
       "    .dataframe tbody tr th {\n",
       "        vertical-align: top;\n",
       "    }\n",
       "\n",
       "    .dataframe thead th {\n",
       "        text-align: right;\n",
       "    }\n",
       "</style>\n",
       "<table border=\"1\" class=\"dataframe\">\n",
       "  <thead>\n",
       "    <tr style=\"text-align: right;\">\n",
       "      <th></th>\n",
       "      <th>time</th>\n",
       "      <th>620.E</th>\n",
       "      <th>620.N</th>\n",
       "      <th>620.Z</th>\n",
       "      <th>621.E</th>\n",
       "      <th>621.N</th>\n",
       "      <th>621.Z</th>\n",
       "      <th>622.E</th>\n",
       "      <th>622.N</th>\n",
       "      <th>622.Z</th>\n",
       "      <th>...</th>\n",
       "      <th>630.E</th>\n",
       "      <th>630.N</th>\n",
       "      <th>630.Z</th>\n",
       "      <th>631.E</th>\n",
       "      <th>631.N</th>\n",
       "      <th>631.Z</th>\n",
       "      <th>632.E</th>\n",
       "      <th>632.N</th>\n",
       "      <th>632.Z</th>\n",
       "      <th>earthquake</th>\n",
       "    </tr>\n",
       "  </thead>\n",
       "  <tbody>\n",
       "    <tr>\n",
       "      <th>118222</th>\n",
       "      <td>2016-12-04 06:53:34.730</td>\n",
       "      <td>-3.359785</td>\n",
       "      <td>-16.603472</td>\n",
       "      <td>-4.593972</td>\n",
       "      <td>-2.192361</td>\n",
       "      <td>-4.056575</td>\n",
       "      <td>7.473060</td>\n",
       "      <td>-9.202180</td>\n",
       "      <td>-3.318137</td>\n",
       "      <td>2.106405</td>\n",
       "      <td>...</td>\n",
       "      <td>2.284015</td>\n",
       "      <td>2.050865</td>\n",
       "      <td>-3.107877</td>\n",
       "      <td>1.365425</td>\n",
       "      <td>1.988445</td>\n",
       "      <td>-0.640272</td>\n",
       "      <td>-5.789388</td>\n",
       "      <td>-1.712866</td>\n",
       "      <td>-2.312270</td>\n",
       "      <td>1.0</td>\n",
       "    </tr>\n",
       "    <tr>\n",
       "      <th>697751</th>\n",
       "      <td>2016-12-30 19:12:28.459900</td>\n",
       "      <td>-1.235594</td>\n",
       "      <td>-2.268023</td>\n",
       "      <td>-2.988862</td>\n",
       "      <td>-6.146954</td>\n",
       "      <td>-3.852138</td>\n",
       "      <td>-1.704822</td>\n",
       "      <td>0.413223</td>\n",
       "      <td>-4.828177</td>\n",
       "      <td>-2.566904</td>\n",
       "      <td>...</td>\n",
       "      <td>2.287634</td>\n",
       "      <td>0.338177</td>\n",
       "      <td>-3.286742</td>\n",
       "      <td>-0.360168</td>\n",
       "      <td>-0.456899</td>\n",
       "      <td>4.975273</td>\n",
       "      <td>2.569563</td>\n",
       "      <td>-0.239839</td>\n",
       "      <td>1.161999</td>\n",
       "      <td>0.0</td>\n",
       "    </tr>\n",
       "    <tr>\n",
       "      <th>379121</th>\n",
       "      <td>2016-12-16 09:08:54.729900</td>\n",
       "      <td>-0.577873</td>\n",
       "      <td>1.292450</td>\n",
       "      <td>0.052806</td>\n",
       "      <td>-1.612702</td>\n",
       "      <td>-0.520162</td>\n",
       "      <td>0.095535</td>\n",
       "      <td>1.355611</td>\n",
       "      <td>-0.166099</td>\n",
       "      <td>-0.477940</td>\n",
       "      <td>...</td>\n",
       "      <td>-0.739599</td>\n",
       "      <td>0.112564</td>\n",
       "      <td>-0.659581</td>\n",
       "      <td>1.403641</td>\n",
       "      <td>-0.994037</td>\n",
       "      <td>1.634529</td>\n",
       "      <td>-0.312484</td>\n",
       "      <td>3.467002</td>\n",
       "      <td>-3.083759</td>\n",
       "      <td>0.0</td>\n",
       "    </tr>\n",
       "    <tr>\n",
       "      <th>19376</th>\n",
       "      <td>2016-12-01 18:16:57.499900</td>\n",
       "      <td>-4.068516</td>\n",
       "      <td>4.628817</td>\n",
       "      <td>1.788315</td>\n",
       "      <td>-1.694853</td>\n",
       "      <td>-3.067676</td>\n",
       "      <td>-0.993844</td>\n",
       "      <td>-3.731582</td>\n",
       "      <td>-2.653823</td>\n",
       "      <td>-0.267741</td>\n",
       "      <td>...</td>\n",
       "      <td>-2.289951</td>\n",
       "      <td>-1.192924</td>\n",
       "      <td>0.291479</td>\n",
       "      <td>1.697679</td>\n",
       "      <td>-2.883417</td>\n",
       "      <td>-4.144638</td>\n",
       "      <td>0.565036</td>\n",
       "      <td>3.225231</td>\n",
       "      <td>-5.800160</td>\n",
       "      <td>0.0</td>\n",
       "    </tr>\n",
       "    <tr>\n",
       "      <th>10210</th>\n",
       "      <td>2016-12-01 18:15:25.839900</td>\n",
       "      <td>45.148710</td>\n",
       "      <td>-22.737737</td>\n",
       "      <td>39.795559</td>\n",
       "      <td>121.012784</td>\n",
       "      <td>21.206152</td>\n",
       "      <td>-20.663692</td>\n",
       "      <td>46.172274</td>\n",
       "      <td>50.263871</td>\n",
       "      <td>-11.459239</td>\n",
       "      <td>...</td>\n",
       "      <td>0.585180</td>\n",
       "      <td>2.753650</td>\n",
       "      <td>-1.624681</td>\n",
       "      <td>-0.645652</td>\n",
       "      <td>-3.002026</td>\n",
       "      <td>-0.697568</td>\n",
       "      <td>-2.609978</td>\n",
       "      <td>1.422445</td>\n",
       "      <td>0.407058</td>\n",
       "      <td>1.0</td>\n",
       "    </tr>\n",
       "  </tbody>\n",
       "</table>\n",
       "<p>5 rows × 41 columns</p>\n",
       "</div>"
      ],
      "text/plain": [
       "                              time      620.E      620.N      620.Z  \\\n",
       "118222     2016-12-04 06:53:34.730  -3.359785 -16.603472  -4.593972   \n",
       "697751  2016-12-30 19:12:28.459900  -1.235594  -2.268023  -2.988862   \n",
       "379121  2016-12-16 09:08:54.729900  -0.577873   1.292450   0.052806   \n",
       "19376   2016-12-01 18:16:57.499900  -4.068516   4.628817   1.788315   \n",
       "10210   2016-12-01 18:15:25.839900  45.148710 -22.737737  39.795559   \n",
       "\n",
       "             621.E      621.N      621.Z      622.E      622.N      622.Z  \\\n",
       "118222   -2.192361  -4.056575   7.473060  -9.202180  -3.318137   2.106405   \n",
       "697751   -6.146954  -3.852138  -1.704822   0.413223  -4.828177  -2.566904   \n",
       "379121   -1.612702  -0.520162   0.095535   1.355611  -0.166099  -0.477940   \n",
       "19376    -1.694853  -3.067676  -0.993844  -3.731582  -2.653823  -0.267741   \n",
       "10210   121.012784  21.206152 -20.663692  46.172274  50.263871 -11.459239   \n",
       "\n",
       "        ...     630.E     630.N     630.Z     631.E     631.N     631.Z  \\\n",
       "118222  ...  2.284015  2.050865 -3.107877  1.365425  1.988445 -0.640272   \n",
       "697751  ...  2.287634  0.338177 -3.286742 -0.360168 -0.456899  4.975273   \n",
       "379121  ... -0.739599  0.112564 -0.659581  1.403641 -0.994037  1.634529   \n",
       "19376   ... -2.289951 -1.192924  0.291479  1.697679 -2.883417 -4.144638   \n",
       "10210   ...  0.585180  2.753650 -1.624681 -0.645652 -3.002026 -0.697568   \n",
       "\n",
       "           632.E     632.N     632.Z  earthquake  \n",
       "118222 -5.789388 -1.712866 -2.312270         1.0  \n",
       "697751  2.569563 -0.239839  1.161999         0.0  \n",
       "379121 -0.312484  3.467002 -3.083759         0.0  \n",
       "19376   0.565036  3.225231 -5.800160         0.0  \n",
       "10210  -2.609978  1.422445  0.407058         1.0  \n",
       "\n",
       "[5 rows x 41 columns]"
      ]
     },
     "execution_count": 3,
     "metadata": {},
     "output_type": "execute_result"
    }
   ],
   "source": [
    "data = pd.read_csv('append_files_filter_bandpass.csv')\n",
    "data.sample(5)"
   ]
  },
  {
   "cell_type": "markdown",
   "metadata": {},
   "source": [
    "Разделяем данные на матрицу признаков $X$ и столбец ответов $y$, смотрим их размеры."
   ]
  },
  {
   "cell_type": "code",
   "execution_count": 4,
   "metadata": {},
   "outputs": [
    {
     "name": "stdout",
     "output_type": "stream",
     "text": [
      "(702000, 39)\n",
      "(702000,)\n"
     ]
    }
   ],
   "source": [
    "X = data.drop([target,'time'],axis = 1)\n",
    "y = data[target]\n",
    "\n",
    "print(X.shape)\n",
    "print(y.shape)"
   ]
  },
  {
   "cell_type": "markdown",
   "metadata": {},
   "source": [
    "Перед обучением модели данные были заранее размечены, сделано это в другом ноутбуке. Сейчас необходимо разделить данные на тренировочную и тестовую выборки."
   ]
  },
  {
   "cell_type": "code",
   "execution_count": 5,
   "metadata": {},
   "outputs": [],
   "source": [
    "X_train, X_test, y_train, y_test = train_test_split(X.values, y.values, \n",
    "                                                    train_size=0.8, random_state=42)"
   ]
  },
  {
   "cell_type": "markdown",
   "metadata": {},
   "source": [
    "Смотрим на размер выборок после разделения."
   ]
  },
  {
   "cell_type": "code",
   "execution_count": 6,
   "metadata": {},
   "outputs": [
    {
     "name": "stdout",
     "output_type": "stream",
     "text": [
      "(561600, 39) (140400, 39)\n",
      "(561600,) (140400,)\n"
     ]
    }
   ],
   "source": [
    "print(X_train.shape, X_test.shape)\n",
    "print(y_train.shape, y_test.shape)"
   ]
  },
  {
   "cell_type": "markdown",
   "metadata": {},
   "source": [
    "## Обучение моделей\n",
    "\n",
    "[В начало](#Навигация)\n",
    "\n",
    "#### Метрика\n",
    "Перед решением любой задачи важно понимать, как будет оцениваться результат. В данном случае используется стандартная для задачи классификации метрика ROC-AUC. Её можно вычислить используя только предсказанные вероятности и истинные классы без конкретного порога классификации + она работает даже если классы в данных сильно несбалансированы (примеров одного класса в десятки раз больше примеров другого). Именно поэтому она очень удобна для оценки.\n",
    "\n",
    "Посчитать её легко:"
   ]
  },
  {
   "cell_type": "code",
   "execution_count": 7,
   "metadata": {},
   "outputs": [
    {
     "data": {
      "text/plain": [
       "0.8333333333333333"
      ]
     },
     "execution_count": 7,
     "metadata": {},
     "output_type": "execute_result"
    }
   ],
   "source": [
    "from sklearn.metrics import roc_auc_score\n",
    "\n",
    "y_true = [0, 1, 1, 0, 1]\n",
    "y_predictions = [0.1, 0.9, 0.4, 0.6, 0.61]\n",
    "\n",
    "roc_auc_score(y_true, y_predictions)"
   ]
  },
  {
   "cell_type": "markdown",
   "metadata": {},
   "source": [
    "### Обучаем модель RandomForestClassifier\n",
    "\n",
    "[В начало](#Навигация)"
   ]
  },
  {
   "cell_type": "code",
   "execution_count": 8,
   "metadata": {},
   "outputs": [
    {
     "data": {
      "image/png": "[encoded data removed]",
      "text/plain": [
       "<Figure size 720x504 with 1 Axes>"
      ]
     },
     "metadata": {
      "needs_background": "light"
     },
     "output_type": "display_data"
    },
    {
     "name": "stdout",
     "output_type": "stream",
     "text": [
      "CPU times: user 42min 20s, sys: 1.41 s, total: 42min 21s\n",
      "Wall time: 42min 25s\n"
     ]
    }
   ],
   "source": [
    "%%time\n",
    "from sklearn.ensemble import RandomForestClassifier\n",
    "\n",
    "clf = RandomForestClassifier()\n",
    "clf.fit(X_train, y_train)\n",
    "prediction = clf.predict_proba(X_test)\n",
    "\n",
    "y_train_predicted = clf.predict_proba(X_train)[:, 1]\n",
    "y_test_predicted = clf.predict_proba(X_test)[:, 1]\n",
    "\n",
    "from sklearn.metrics import roc_auc_score, roc_curve\n",
    "\n",
    "train_auc = roc_auc_score(y_train, y_train_predicted)\n",
    "test_auc = roc_auc_score(y_test, y_test_predicted)\n",
    "\n",
    "plt.figure(figsize=(10,7))\n",
    "plt.plot(*roc_curve(y_train, y_train_predicted)[:2], label='train AUC={:.4f}'.format(train_auc))\n",
    "plt.plot(*roc_curve(y_test, y_test_predicted)[:2], label='test AUC={:.4f}'.format(test_auc))\n",
    "legend_box = plt.legend(fontsize='large', framealpha=1).get_frame()\n",
    "legend_box.set_facecolor(\"white\")\n",
    "legend_box.set_edgecolor(\"black\")\n",
    "plt.plot(np.linspace(0,1,100), np.linspace(0,1,100))\n",
    "plt.grid()\n",
    "plt.title('Метрика качества модели RandomForestClassifier, roc-auc score')\n",
    "plt.show()"
   ]
  },
  {
   "cell_type": "markdown",
   "metadata": {},
   "source": [
    "При запуске с параметрами по умолчанию модель достигает точности 1.00 на тренировочных данных, но не может выдать такой же результат на тестовых данных. Это говорит о переобучении модели под тренировочные данные. Решение $-$ уменьшение глубины деревьев и увеличение минимального числа элементов в листе дерева с 1 до 5."
   ]
  },
  {
   "cell_type": "code",
   "execution_count": 9,
   "metadata": {},
   "outputs": [
    {
     "name": "stdout",
     "output_type": "stream",
     "text": [
      "CPU times: user 28min 43s, sys: 1.19 s, total: 28min 44s\n",
      "Wall time: 3min 44s\n"
     ]
    }
   ],
   "source": [
    "%%time\n",
    "from sklearn.ensemble import RandomForestClassifier\n",
    "\n",
    "clf = RandomForestClassifier(n_estimators = 100,max_depth = 25, n_jobs = -1,min_samples_split=5,max_features='log2')\n",
    "clf.fit(X_train, y_train)\n",
    "prediction = clf.predict_proba(X_test)"
   ]
  },
  {
   "cell_type": "code",
   "execution_count": 10,
   "metadata": {},
   "outputs": [
    {
     "name": "stdout",
     "output_type": "stream",
     "text": [
      "ROC-AUC score:  0.9381\n",
      "f1-score:  0.8957\n"
     ]
    }
   ],
   "source": [
    "print('ROC-AUC score: ',round(roc_auc_score(y_test, prediction[:,1]),4))"
   ]
  },
  {
   "cell_type": "code",
   "execution_count": 11,
   "metadata": {},
   "outputs": [
    {
     "data": {
      "image/png": "[encoded data removed]",
      "text/plain": [
       "<Figure size 720x504 with 1 Axes>"
      ]
     },
     "metadata": {
      "needs_background": "light"
     },
     "output_type": "display_data"
    }
   ],
   "source": [
    "y_train_predicted = clf.predict_proba(X_train)[:, 1]\n",
    "y_test_predicted = clf.predict_proba(X_test)[:, 1]\n",
    "\n",
    "from sklearn.metrics import roc_auc_score, roc_curve\n",
    "\n",
    "train_auc = roc_auc_score(y_train, y_train_predicted)\n",
    "test_auc = roc_auc_score(y_test, y_test_predicted)\n",
    "\n",
    "plt.figure(figsize=(10,7))\n",
    "plt.plot(*roc_curve(y_train, y_train_predicted)[:2], label='train AUC={:.4f}'.format(train_auc))\n",
    "plt.plot(*roc_curve(y_test, y_test_predicted)[:2], label='test AUC={:.4f}'.format(test_auc))\n",
    "legend_box = plt.legend(fontsize='large', framealpha=1).get_frame()\n",
    "legend_box.set_facecolor(\"white\")\n",
    "legend_box.set_edgecolor(\"black\")\n",
    "plt.plot(np.linspace(0,1,100), np.linspace(0,1,100))\n",
    "plt.grid()\n",
    "plt.title('Метрика качества модели RandomForestClassifier, roc-auc score')\n",
    "plt.show()"
   ]
  },
  {
   "cell_type": "markdown",
   "metadata": {},
   "source": [
    "Из графика видно, что качество на тренировочной и тестовой выборках почти совпадает, $-$ это значит, что модель не переобучается и хорошо находит зависимости."
   ]
  },
  {
   "cell_type": "markdown",
   "metadata": {},
   "source": [
    "### Обучаем модель XGBClassifier\n",
    "\n",
    "[В начало](#Навигация)\n",
    "\n",
    "<div class=\"alert alert-block alert-info\">\n",
    "<b>Совет.</b> Библиотека xgboost изначально не установлена в пакете Anaconda, и её необходимо установить самостоятельно для обучения следующей модели.\n",
    " <ul>\n",
    " <li> В Windows через графический интерфейс Anaconda Navigator --> environments --> search all \"xgboost\" --> install </li>\n",
    " <li> В Linux Ubuntu в командной строке достаточно прописать команду <b>pip install xgboost</b> </li>\n",
    " </ul>\n",
    "\n",
    "</div>"
   ]
  },
  {
   "cell_type": "code",
   "execution_count": 12,
   "metadata": {},
   "outputs": [
    {
     "name": "stdout",
     "output_type": "stream",
     "text": [
      "[13:47:36] WARNING: ../src/learner.cc:1061: Starting in XGBoost 1.3.0, the default evaluation metric used with the objective 'binary:logistic' was changed from 'error' to 'logloss'. Explicitly set eval_metric if you'd like to restore the old behavior.\n",
      "CPU times: user 51min 40s, sys: 1.06 s, total: 51min 41s\n",
      "Wall time: 6min 45s\n"
     ]
    }
   ],
   "source": [
    "%%time\n",
    "boosting_model = xgboost.XGBClassifier(n_estimators=200,learning_rate = 0.1, max_depth = 5,subsample = 0.7)\n",
    "boosting_model.fit(X_train, y_train)\n",
    "\n",
    "y_train_predicted = boosting_model.predict_proba(X_train)[:, 1]\n",
    "y_test_predicted = boosting_model.predict_proba(X_test)[:, 1]"
   ]
  },
  {
   "cell_type": "code",
   "execution_count": 13,
   "metadata": {},
   "outputs": [
    {
     "name": "stdout",
     "output_type": "stream",
     "text": [
      "ROC-AUC score:  0.9392\n"
     ]
    }
   ],
   "source": [
    "print('ROC-AUC score: ',round(roc_auc_score(y_test, y_test_predicted),4))"
   ]
  },
  {
   "cell_type": "code",
   "execution_count": 14,
   "metadata": {},
   "outputs": [
    {
     "data": {
      "image/png": "[encoded data removed]",
      "text/plain": [
       "<Figure size 720x504 with 1 Axes>"
      ]
     },
     "metadata": {
      "needs_background": "light"
     },
     "output_type": "display_data"
    }
   ],
   "source": [
    "from sklearn.metrics import roc_auc_score, roc_curve\n",
    "\n",
    "train_auc = roc_auc_score(y_train, y_train_predicted)\n",
    "test_auc = roc_auc_score(y_test, y_test_predicted)\n",
    "\n",
    "plt.figure(figsize=(10,7))\n",
    "plt.plot(*roc_curve(y_train, y_train_predicted)[:2], label='train AUC={:.4f}'.format(train_auc))\n",
    "plt.plot(*roc_curve(y_test, y_test_predicted)[:2], label='test AUC={:.4f}'.format(test_auc))\n",
    "legend_box = plt.legend(fontsize='large', framealpha=1).get_frame()\n",
    "legend_box.set_facecolor(\"white\")\n",
    "legend_box.set_edgecolor(\"black\")\n",
    "plt.plot(np.linspace(0,1,100), np.linspace(0,1,100))\n",
    "plt.grid()\n",
    "plt.title('Метрика качества модели XGBClassifier, roc-auc score')\n",
    "plt.show()"
   ]
  },
  {
   "cell_type": "markdown",
   "metadata": {},
   "source": [
    "Модель XGBClassifier ещё лучше предсказывает и меньше переобучается. "
   ]
  },
  {
   "cell_type": "markdown",
   "metadata": {},
   "source": [
    "### Проверяем модель на тестовых данных\n",
    "\n",
    "[В начало](#Навигация)"
   ]
  },
  {
   "cell_type": "markdown",
   "metadata": {},
   "source": [
    "Пусть следующие файлы, полученные из файлов miniSEED, будут тестовыми. Эти файлы модель ещё не видела, поэтому посмотрим, как хорошо модель предскажет землетрясение.\n"
   ]
  },
  {
   "cell_type": "code",
   "execution_count": 15,
   "metadata": {},
   "outputs": [],
   "source": [
    " # Файлы для проверки обученности модели:\n",
    "test_files = [\n",
    "    '2016-12-08 15:09:00.7099.csv', # четко\n",
    "    '2016-12-13 01:05:03.4100.csv',\n",
    "    '2016-12-13 01:52:50.7799.csv',\n",
    "    '2016-12-13 15:17:59.5499.csv',\n",
    "    '2016-12-13 17:23:21.2999.csv',\n",
    "    '2016-12-16 16:50:56.8199.csv',\n",
    "    '2016-12-17 15:58:06.3099.csv',\n",
    "    '2016-12-22 05:00:42.3699.csv',\n",
    "    '2016-12-23 07:42:44.7299.csv',\n",
    "    '2016-12-23 13:08:15.8900.csv',\n",
    "    '2016-12-23 15:27:13.1400.csv',\n",
    "    '2016-12-23 15:43:14.6599.csv',\n",
    "    '2016-12-25 08:49:53.1800.csv',\n",
    "    '2016-12-25 14:10:05.0700.csv', # четко\n",
    "    '2016-12-25 14:49:09.6099.csv',\n",
    "    '2016-12-26 02:47:12.9200.csv',\n",
    "    '2016-12-26 09:07:10.7799.csv',\n",
    "    '2016-12-26 09:07:43.6699.csv',\n",
    "    '2016-12-26 11:39:40.4399.csv',\n",
    "    '2016-12-26 23:21:42.9199.csv',\n",
    "    '2016-12-27 03:28:36.3899.csv', # четко\n",
    "    '2016-12-27 13:45:46.3699.csv',\n",
    "    '2016-12-27 14:39:25.3500.csv',\n",
    "    '2016-12-27 22:58:12.1000.csv',\n",
    "    '2016-12-28 03:58:11.1700.csv',\n",
    "    '2016-12-28 08:34:32.4099.csv',\n",
    "    '2016-12-28 20:44:27.8799.csv',\n",
    "    '2016-12-28 22:49:21.1599.csv', # четко\n",
    "    '2016-12-29 09:52:47.5999.csv',\n",
    "    '2016-12-30 12:25:51.2500.csv',\n",
    "    '2016-12-30 19:18:41.0699.csv',\n",
    "    '2016-12-31 18:38:12.2700.csv',\n",
    "    '2016-12-09 23:17:00.7300.csv', # не совсем четко\n",
    "    '2016-12-23 03:52:15.8199.csv'       \n",
    "]\n",
    "\n",
    "if (OS == 'Windows'):\n",
    "    for i in range(len(test_files)):\n",
    "        try:\n",
    "            test_files[i] = test_files[i].replace(':','_')\n",
    "        except:\n",
    "            pass"
   ]
  },
  {
   "cell_type": "markdown",
   "metadata": {},
   "source": [
    "#### Используем ранее обученную модель\n",
    "\n",
    "Далее происходит выделение границ землетрясения красным и строятся графики. Модель определяет начало и конец землетрясения, и обозначает эти метки времени для каждой станции. Программа строит все графики для каждого файла из списка *test_files* (файлы хранятся в директории *path*) и сохраняет в директорию *path_image*."
   ]
  },
  {
   "cell_type": "code",
   "execution_count": 16,
   "metadata": {},
   "outputs": [
    {
     "name": "stdout",
     "output_type": "stream",
     "text": [
      "Файл 2016-12-08 15:09:00.7099.csv\n",
      "Уже загрузили 1 файлов.\n",
      "Осталось загрузить ещё 34 файлов.\n",
      "\n",
      "Файл 2016-12-13 01:05:03.4100.csv\n",
      "Уже загрузили 2 файлов.\n",
      "Осталось загрузить ещё 33 файлов.\n",
      "\n",
      "Файл 2016-12-13 01:52:50.7799.csv\n",
      "Уже загрузили 3 файлов.\n",
      "Осталось загрузить ещё 32 файлов.\n",
      "\n",
      "Файл 2016-12-13 15:17:59.5499.csv\n",
      "Уже загрузили 4 файлов.\n",
      "Осталось загрузить ещё 31 файлов.\n",
      "\n",
      "Файл 2016-12-13 17:23:21.2999.csv\n",
      "Уже загрузили 5 файлов.\n",
      "Осталось загрузить ещё 30 файлов.\n",
      "\n",
      "Файл 2016-12-16 16:50:56.8199.csv\n",
      "Уже загрузили 6 файлов.\n",
      "Осталось загрузить ещё 29 файлов.\n",
      "\n",
      "Файл 2016-12-17 15:58:06.3099.csv\n",
      "Уже загрузили 7 файлов.\n",
      "Осталось загрузить ещё 28 файлов.\n",
      "\n",
      "Файл 2016-12-22 05:00:42.3699.csv\n",
      "Уже загрузили 8 файлов.\n",
      "Осталось загрузить ещё 27 файлов.\n",
      "\n",
      "Файл 2016-12-23 07:42:44.7299.csv\n",
      "Уже загрузили 9 файлов.\n",
      "Осталось загрузить ещё 26 файлов.\n",
      "\n",
      "Файл 2016-12-23 13:08:15.8900.csv\n",
      "Уже загрузили 10 файлов.\n",
      "Осталось загрузить ещё 25 файлов.\n",
      "\n",
      "Файл 2016-12-23 15:27:13.1400.csv\n",
      "Уже загрузили 11 файлов.\n",
      "Осталось загрузить ещё 24 файлов.\n",
      "\n",
      "Файл 2016-12-23 15:43:14.6599.csv\n",
      "Уже загрузили 12 файлов.\n",
      "Осталось загрузить ещё 23 файлов.\n",
      "\n",
      "Файл 2016-12-25 08:49:53.1800.csv\n",
      "Уже загрузили 13 файлов.\n",
      "Осталось загрузить ещё 22 файлов.\n",
      "\n",
      "Файл 2016-12-25 14:10:05.0700.csv\n",
      "Уже загрузили 14 файлов.\n",
      "Осталось загрузить ещё 21 файлов.\n",
      "\n",
      "Файл 2016-12-25 14:49:09.6099.csv\n",
      "Уже загрузили 15 файлов.\n",
      "Осталось загрузить ещё 20 файлов.\n",
      "\n",
      "Файл 2016-12-26 02:47:12.9200.csv\n",
      "Уже загрузили 16 файлов.\n",
      "Осталось загрузить ещё 19 файлов.\n",
      "\n",
      "Файл 2016-12-26 09:07:10.7799.csv\n",
      "Уже загрузили 17 файлов.\n",
      "Осталось загрузить ещё 18 файлов.\n",
      "\n",
      "Файл 2016-12-26 09:07:43.6699.csv\n",
      "Уже загрузили 18 файлов.\n",
      "Осталось загрузить ещё 17 файлов.\n",
      "\n",
      "Файл 2016-12-26 11:39:40.4399.csv\n",
      "Уже загрузили 19 файлов.\n",
      "Осталось загрузить ещё 16 файлов.\n",
      "\n",
      "Файл 2016-12-26 23:21:42.9199.csv\n",
      "Уже загрузили 20 файлов.\n",
      "Осталось загрузить ещё 15 файлов.\n",
      "\n",
      "Файл 2016-12-27 03:28:36.3899.csv\n",
      "Уже загрузили 21 файлов.\n",
      "Осталось загрузить ещё 14 файлов.\n",
      "\n",
      "Файл 2016-12-27 13:45:46.3699.csv\n",
      "Уже загрузили 22 файлов.\n",
      "Осталось загрузить ещё 13 файлов.\n",
      "\n",
      "Файл 2016-12-27 14:39:25.3500.csv\n",
      "Уже загрузили 23 файлов.\n",
      "Осталось загрузить ещё 12 файлов.\n",
      "\n",
      "Файл 2016-12-27 22:58:12.1000.csv\n",
      "Уже загрузили 24 файлов.\n",
      "Осталось загрузить ещё 11 файлов.\n",
      "\n",
      "Файл 2016-12-28 03:58:11.1700.csv\n",
      "Уже загрузили 25 файлов.\n",
      "Осталось загрузить ещё 10 файлов.\n",
      "\n",
      "Файл 2016-12-28 08:34:32.4099.csv\n",
      "Уже загрузили 26 файлов.\n",
      "Осталось загрузить ещё 9 файлов.\n",
      "\n",
      "Файл 2016-12-28 20:44:27.8799.csv\n",
      "Уже загрузили 27 файлов.\n",
      "Осталось загрузить ещё 8 файлов.\n",
      "\n",
      "Файл 2016-12-28 22:49:21.1599.csv\n",
      "Уже загрузили 28 файлов.\n",
      "Осталось загрузить ещё 7 файлов.\n",
      "\n",
      "Файл 2016-12-29 09:52:47.5999.csv\n",
      "Уже загрузили 29 файлов.\n",
      "Осталось загрузить ещё 6 файлов.\n",
      "\n",
      "Файл 2016-12-30 12:25:51.2500.csv\n",
      "Уже загрузили 30 файлов.\n",
      "Осталось загрузить ещё 5 файлов.\n",
      "\n",
      "Файл 2016-12-30 19:18:41.0699.csv\n",
      "Уже загрузили 31 файлов.\n",
      "Осталось загрузить ещё 4 файлов.\n",
      "\n",
      "Файл 2016-12-31 18:38:12.2700.csv\n",
      "Уже загрузили 32 файлов.\n",
      "Осталось загрузить ещё 3 файлов.\n",
      "\n",
      "Файл 2016-12-09 23:17:00.7300.csv\n",
      "Уже загрузили 33 файлов.\n",
      "Осталось загрузить ещё 2 файлов.\n",
      "\n",
      "Файл 2016-12-23 03:52:15.8199.csv\n",
      "Уже загрузили 34 файлов.\n",
      "Осталось загрузить ещё 1 файлов.\n",
      "\n"
     ]
    }
   ],
   "source": [
    "for kkk,file in enumerate(test_files):\n",
    "    test_origin = pd.read_csv(path + file)\n",
    "    test = test_origin.copy()\n",
    "    X_test = test.drop(['time'],axis = 1)\n",
    "    best_model = boosting_model # тут прописываем лучшую модель (boosting_model,clf, etc..)\n",
    "\n",
    "    predict_proba = best_model.predict_proba(X_test.values)\n",
    "    predict_class = best_model.predict(X_test.values)\n",
    "    test_origin['predict_proba'] = test['620.E']\n",
    "    test_origin['predict_class'] = test['620.E']\n",
    "\n",
    "    test_origin['predict_proba'] = predict_proba # Предсказываем вероятность принадлежности классу\n",
    "    test_origin['predict_class'] = predict_class # и сам класс\n",
    " \n",
    "\n",
    "    #########################################################################\n",
    " #   Выделяем границы землетрясения красным\n",
    "    k = 0\n",
    "    count = 0\n",
    "    last_element = 0\n",
    "    index_sta,index_end = 0,0\n",
    "\n",
    "    porog_start = 10 # порог начала землетрясения\n",
    "    porog_end = 400 # порог конца\n",
    "\n",
    "    print('Файл {}'.format(file))\n",
    "    \n",
    "    for ind, i in enumerate(test_origin['predict_class']):\n",
    "        if (i==1)and(k==0):\n",
    "            count+=1\n",
    "        elif (i==0)and(k==1):\n",
    "            count+=1\n",
    "        else:\n",
    "            count=0\n",
    "\n",
    "        if (count==porog_start)and(k==0):\n",
    "#             print('Время начала землетрясения: ',test_origin['time'][ind-porog_start])\n",
    "            time_begin  = test_origin['time'][ind-porog_start]\n",
    "            k = 1 # землетрясение началось\n",
    "            index_sta = ind-porog_start\n",
    "            count = 0\n",
    "            continue\n",
    "        if (count==porog_end)and(k==1):\n",
    "            time_end = test_origin['time'][ind-porog_end]\n",
    "#             print('Время окончания землетрясения: ', test_origin['time'][ind-porog_end])\n",
    "            index_end = ind-porog_end\n",
    "            break\n",
    "\n",
    "####################################################################\n",
    "            # строим график\n",
    "    df5 = test_origin\n",
    "    df5['time'] = df5['time'].apply(lambda x: pd.Timestamp(x))\n",
    "    columns = list(df5.columns)[1:-2]\n",
    "    date = str(df5['time'][0].date())\n",
    "\n",
    "\n",
    "    for three_cols in range(0,len(columns),3):\n",
    "\n",
    "        fig, axs = plt.subplots(nrows=3, ncols=1, figsize=(12, 7))\n",
    "\n",
    "        column = columns[three_cols]\n",
    "        axs[0].grid(color=\"blue\", which=\"both\", linestyle=':', linewidth=0.5)\n",
    "        axs[0].plot(df5['time'], np.array(df5[column]), '-',color = 'grey')\n",
    "        axs[0].vlines(df5['time'][index_sta], np.array(df5[column]).min(), np.array(df5[column]).max(), color = 'r',linestyle='dashed')\n",
    "        axs[0].vlines(df5['time'][index_end], np.array(df5[column]).min(), np.array(df5[column]).max(), color = 'r',linestyle='dashed')\n",
    "        axs[0].set_xlabel('Time')\n",
    "        axs[0].set_title(column + ', ' + date)\n",
    "\n",
    "\n",
    "        column = columns[three_cols+1]\n",
    "        axs[1].grid(color=\"blue\", which=\"both\", linestyle=':', linewidth=0.5)\n",
    "        axs[1].plot(df5['time'], np.array(df5[column]), '-',color = 'green')\n",
    "        axs[1].vlines(df5['time'][index_sta], np.array(df5[column]).min(), np.array(df5[column]).max(), color = 'r',linestyle='dashed')\n",
    "        axs[1].vlines(df5['time'][index_end], np.array(df5[column]).min(), np.array(df5[column]).max(), color = 'r',linestyle='dashed')\n",
    "        axs[1].set_xlabel('Time')\n",
    "        axs[1].set_title(column + ', ' + date)\n",
    "\n",
    "\n",
    "        column = columns[three_cols+2]\n",
    "        axs[2].grid(color=\"blue\", which=\"both\", linestyle=':', linewidth=0.5)\n",
    "        axs[2].plot(df5['time'], np.array(df5[column]), '-',color = 'purple')\n",
    "        axs[2].vlines(df5['time'][index_sta], np.array(df5[column]).min(), np.array(df5[column]).max(), color = 'r',linestyle='dashed')\n",
    "        axs[2].vlines(df5['time'][index_end], np.array(df5[column]).min(), np.array(df5[column]).max(), color = 'r',linestyle='dashed')\n",
    "        axs[2].set_xlabel('Time')\n",
    "        axs[2].set_title(column + ', ' + date)\n",
    "\n",
    "\n",
    "        plt.tight_layout()\n",
    "        \n",
    "        if (OS == 'Windows'):\n",
    "            directory = str(df5['time'][0]) + \"\\\\\" # для Windows '\\\\'\n",
    "            directory = directory.replace(\":\",\"_\") # только для Windows делаем, т.к. папки в Windows нельзя называть с ':'\n",
    "        else:\n",
    "            directory = str(df5['time'][0]) + \"/\" # для Linux '/'\n",
    "                    \n",
    "        path2 = os.path.join(path_image,directory)\n",
    "        try: \n",
    "            os.makedirs(path2) \n",
    "        except OSError as error: \n",
    "            pass\n",
    "        \n",
    "        path2 = path2 + '{}.jpeg'.format(column[:3])\n",
    "        fig.savefig(path2,dpi=100)\n",
    "        plt.cla()\n",
    "        plt.clf()\n",
    "        fig.clf()\n",
    "        plt.close('all')\n",
    "        plt.close(fig)\n",
    "        plt.close()\n",
    "        \n",
    "    with open(path2[0:-8] + 'earthquake_time.txt','w') as f: # сохраняем время землетрясения в файл\n",
    "        a = \"Время начала землетрясения: {}\".format(time_begin)\n",
    "        b = \"Время окончания землетрясения: {}\".format(time_end)\n",
    "        f.write(a)\n",
    "        f.write('\\n')\n",
    "        f.write(b)\n",
    "\n",
    "    plt.cla()\n",
    "    plt.clf()\n",
    "    fig.clf()\n",
    "    plt.close('all')\n",
    "    plt.close(fig)\n",
    "    plt.close()\n",
    "    print('Уже загрузили {} файлов.'.format(kkk + 1))\n",
    "    print('Осталось загрузить ещё {} файлов.\\n'.format(len(test_files)-kkk))\n"
   ]
  },
  {
   "cell_type": "markdown",
   "metadata": {},
   "source": [
    "## Выводы\n",
    "\n",
    "[В начало](#Навигация)\n",
    "\n",
    "<div class=\"alert alert-block alert-success\">\n",
    "<b>Результат работы программы.</b> \n",
    "<ol>\n",
    " <li>Обучение происходило на фильтрованных данных, что увеличило точность моделей. </li>\n",
    " <li>Модель XGBoost с гиперпараметрами n_estimators = 200, learning_rate = 0.1, max_depth = 5, subsample = 0.7 показала лучший результат.</li>\n",
    " <li> Модель уже хорошо определяет наличие землетрясения и может обозначить его временные границы на сейсмограмме, пусть и с некоторыми ошибками.</li>\n",
    "</ol>\n",
    "</div>\n",
    "\n",
    "- [x] Подготовить данные для работы, перевести их в формат csv\n",
    "- [x] Визуализировать данные\n",
    "- [x] Разметить файлы, опираясь на их визуализацию\n",
    "- [x] Объединить файлы в датафрейм\n",
    "- [x] Обучить модели, выявить лучшую\n",
    "- [x] Протестировать модель, дать оценку\n",
    "\n",
    "\n",
    "\n",
    "<div class=\"alert alert-block alert-info\">\n",
    "<b>Планы.</b>\n",
    " <ul>\n",
    " <li> Применить к данным вейвлет-преобразование.</li>\n",
    " <li> Обучить модели на новых данных, выявить лучшую модель.</li>\n",
    " </ul>\n",
    "\n",
    "</div>\n"
   ]
  }
 ],
 "metadata": {
  "kernelspec": {
   "display_name": "Python 3",
   "language": "python",
   "name": "python3"
  },
  "language_info": {
   "codemirror_mode": {
    "name": "ipython",
    "version": 3
   },
   "file_extension": ".py",
   "mimetype": "text/x-python",
   "name": "python",
   "nbconvert_exporter": "python",
   "pygments_lexer": "ipython3",
   "version": "3.8.5"
  }
 },
 "nbformat": 4,
 "nbformat_minor": 2
}

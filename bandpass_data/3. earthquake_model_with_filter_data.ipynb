{
 "cells": [
  {
   "cell_type": "markdown",
   "metadata": {},
   "source": [
    "<p style=\"align: center;\"><img align=center src=\"https://mipt.ru/docs/download.php?code=mipt_eng_text_png\" width=500 height=450/></p>\n",
    "\n",
    "<h3 style=\"text-align: center;\"><b>Московский физико-технический институт</b></h3>\n",
    "<h3 style=\"text-align: center;\"><b>Магистерская программа \"Природные системы и безопасное освоение Арктики\"</b></h3>\n",
    "\n",
    "\n",
    "<h3 style=\"text-align: center;\"><b>Детектирование микроземлетрясений.</b></h3>\n",
    "\n",
    "    Работу выполнил: Лаврентьев Кирилл Андреевич\n",
    "\n",
    "    Научный руководитель: Крылов Артём Александрович\n",
    "    \n",
    "Ссылка на [проект][] в github.\n",
    "\n",
    "\n",
    "[проект]: https://github.com/KirillLavrentev/microearthquake_detection \"GitHub\""
   ]
  },
  {
   "cell_type": "markdown",
   "metadata": {},
   "source": [
    "### Навигация\n",
    "[1. Разбиваем данные](#Разбиваем-данные-на-train/test-перед-обучением-модели)\n",
    "\n",
    "[2. Обучение моделей](#Обучение-моделей)\n",
    "\n",
    "   [2.1. Обучаем модель RandomForestClassifier](#Обучаем-модель-RandomForestClassifier)\n",
    "\n",
    "   [2.2. Обучаем модель XGBClassifier](#Обучаем-модель-XGBClassifier)\n",
    "\n",
    "[3. Проверяем модель на тестовых данных](#Проверяем-модель-на-тестовых-данных)\n",
    "\n",
    "[4. Выводы](#Выводы)"
   ]
  },
  {
   "cell_type": "markdown",
   "metadata": {},
   "source": [
    "#### В этом ноутбуке модели обучаются на фильтрованных данных.\n",
    "<b>tr.filter('bandpass', freqmin = 6, freqmax = 16,corners = 6)</b>"
   ]
  },
  {
   "cell_type": "markdown",
   "metadata": {},
   "source": [
    "### Разбиваем данные на train/test перед обучением модели"
   ]
  },
  {
   "cell_type": "code",
   "execution_count": 1,
   "metadata": {},
   "outputs": [],
   "source": [
    "import pandas as pd\n",
    "import xgboost\n",
    "from sklearn.model_selection import train_test_split\n",
    "from sklearn.metrics import roc_auc_score,f1_score, precision_score,recall_score,accuracy_score, roc_curve\n",
    "from matplotlib import pyplot as plt\n",
    "import numpy as np\n",
    "import os\n",
    "import warnings\n",
    "warnings.filterwarnings(\"ignore\")\n",
    "\n",
    "target = 'earthquake'"
   ]
  },
  {
   "cell_type": "markdown",
   "metadata": {},
   "source": [
    "Прописываем пути к файлам."
   ]
  },
  {
   "cell_type": "code",
   "execution_count": 2,
   "metadata": {},
   "outputs": [],
   "source": [
    "# указываем тип ОС (Linux/Windows), так как на Windows запуск немного отличается\n",
    "OS = 'Linux'\n",
    "\n",
    "# откуда берем данные для построения\n",
    "path = \"/home/kl/Рабочий стол/Diploma_master/data/origin_in_csv_bandpass/\"\n",
    "\n",
    "# куда сохранить графики\n",
    "path_image = \"/home/kl/Рабочий стол/Diploma_master/graph_images/data_bandpass_marked_by_model/\""
   ]
  },
  {
   "cell_type": "markdown",
   "metadata": {},
   "source": [
    "Смотрим, как выглядит объединённый файл с данными, который был подготовлен ранее.\n",
    "\n",
    "Целевая переменная называется **earthquake**, 1 $-$ землетрясение есть, 0 $-$ землетрясения нет."
   ]
  },
  {
   "cell_type": "code",
   "execution_count": 3,
   "metadata": {},
   "outputs": [
    {
     "data": {
      "text/html": [
       "<div>\n",
       "<style scoped>\n",
       "    .dataframe tbody tr th:only-of-type {\n",
       "        vertical-align: middle;\n",
       "    }\n",
       "\n",
       "    .dataframe tbody tr th {\n",
       "        vertical-align: top;\n",
       "    }\n",
       "\n",
       "    .dataframe thead th {\n",
       "        text-align: right;\n",
       "    }\n",
       "</style>\n",
       "<table border=\"1\" class=\"dataframe\">\n",
       "  <thead>\n",
       "    <tr style=\"text-align: right;\">\n",
       "      <th></th>\n",
       "      <th>time</th>\n",
       "      <th>620.E</th>\n",
       "      <th>620.N</th>\n",
       "      <th>620.Z</th>\n",
       "      <th>621.E</th>\n",
       "      <th>621.N</th>\n",
       "      <th>621.Z</th>\n",
       "      <th>622.E</th>\n",
       "      <th>622.N</th>\n",
       "      <th>622.Z</th>\n",
       "      <th>...</th>\n",
       "      <th>630.E</th>\n",
       "      <th>630.N</th>\n",
       "      <th>630.Z</th>\n",
       "      <th>631.E</th>\n",
       "      <th>631.N</th>\n",
       "      <th>631.Z</th>\n",
       "      <th>632.E</th>\n",
       "      <th>632.N</th>\n",
       "      <th>632.Z</th>\n",
       "      <th>earthquake</th>\n",
       "    </tr>\n",
       "  </thead>\n",
       "  <tbody>\n",
       "    <tr>\n",
       "      <th>265955</th>\n",
       "      <td>2016-12-12 06:16:51.970</td>\n",
       "      <td>-2.811468</td>\n",
       "      <td>-0.476750</td>\n",
       "      <td>3.540679</td>\n",
       "      <td>-0.627255</td>\n",
       "      <td>0.607879</td>\n",
       "      <td>-0.897139</td>\n",
       "      <td>0.479111</td>\n",
       "      <td>-0.308930</td>\n",
       "      <td>-0.412383</td>\n",
       "      <td>...</td>\n",
       "      <td>1.443279</td>\n",
       "      <td>-0.013969</td>\n",
       "      <td>1.538576</td>\n",
       "      <td>-4.731243</td>\n",
       "      <td>3.978778</td>\n",
       "      <td>3.028170</td>\n",
       "      <td>-0.667386</td>\n",
       "      <td>-0.898819</td>\n",
       "      <td>2.981829</td>\n",
       "      <td>0.0</td>\n",
       "    </tr>\n",
       "    <tr>\n",
       "      <th>339250</th>\n",
       "      <td>2016-12-13 15:41:18.309900</td>\n",
       "      <td>-5.316660</td>\n",
       "      <td>2.072878</td>\n",
       "      <td>3.221343</td>\n",
       "      <td>3.409503</td>\n",
       "      <td>8.004362</td>\n",
       "      <td>6.370336</td>\n",
       "      <td>-0.567258</td>\n",
       "      <td>7.858878</td>\n",
       "      <td>-3.722447</td>\n",
       "      <td>...</td>\n",
       "      <td>-6.404402</td>\n",
       "      <td>4.249873</td>\n",
       "      <td>2.119223</td>\n",
       "      <td>0.673406</td>\n",
       "      <td>-14.190167</td>\n",
       "      <td>2.042763</td>\n",
       "      <td>7.767400</td>\n",
       "      <td>1.960283</td>\n",
       "      <td>-11.611028</td>\n",
       "      <td>1.0</td>\n",
       "    </tr>\n",
       "    <tr>\n",
       "      <th>599361</th>\n",
       "      <td>2016-12-25 14:47:46.259900</td>\n",
       "      <td>-2.017885</td>\n",
       "      <td>-3.948957</td>\n",
       "      <td>-1.040823</td>\n",
       "      <td>-3.438563</td>\n",
       "      <td>-1.008525</td>\n",
       "      <td>1.950180</td>\n",
       "      <td>-2.101724</td>\n",
       "      <td>0.721918</td>\n",
       "      <td>-0.176649</td>\n",
       "      <td>...</td>\n",
       "      <td>3.323789</td>\n",
       "      <td>4.254823</td>\n",
       "      <td>5.132431</td>\n",
       "      <td>1.522066</td>\n",
       "      <td>3.329675</td>\n",
       "      <td>-1.615979</td>\n",
       "      <td>0.955706</td>\n",
       "      <td>0.800079</td>\n",
       "      <td>-3.787293</td>\n",
       "      <td>0.0</td>\n",
       "    </tr>\n",
       "    <tr>\n",
       "      <th>684677</th>\n",
       "      <td>2016-12-30 19:10:17.719900</td>\n",
       "      <td>21.922204</td>\n",
       "      <td>29.149752</td>\n",
       "      <td>-16.105661</td>\n",
       "      <td>5.620300</td>\n",
       "      <td>3.856019</td>\n",
       "      <td>-12.266080</td>\n",
       "      <td>-7.790914</td>\n",
       "      <td>-29.153973</td>\n",
       "      <td>2.297685</td>\n",
       "      <td>...</td>\n",
       "      <td>-11.514440</td>\n",
       "      <td>78.388521</td>\n",
       "      <td>61.454727</td>\n",
       "      <td>-50.031046</td>\n",
       "      <td>-22.796383</td>\n",
       "      <td>32.567850</td>\n",
       "      <td>-210.080764</td>\n",
       "      <td>8.546577</td>\n",
       "      <td>-84.538442</td>\n",
       "      <td>1.0</td>\n",
       "    </tr>\n",
       "    <tr>\n",
       "      <th>444212</th>\n",
       "      <td>2016-12-17 21:08:18.330</td>\n",
       "      <td>-14.867736</td>\n",
       "      <td>29.301898</td>\n",
       "      <td>18.108470</td>\n",
       "      <td>10.940997</td>\n",
       "      <td>-28.635839</td>\n",
       "      <td>-16.429671</td>\n",
       "      <td>-33.655671</td>\n",
       "      <td>3.050293</td>\n",
       "      <td>-13.714287</td>\n",
       "      <td>...</td>\n",
       "      <td>131.318883</td>\n",
       "      <td>90.595303</td>\n",
       "      <td>-1.985036</td>\n",
       "      <td>186.333611</td>\n",
       "      <td>255.017514</td>\n",
       "      <td>23.164712</td>\n",
       "      <td>-114.304921</td>\n",
       "      <td>3.692180</td>\n",
       "      <td>-276.190169</td>\n",
       "      <td>1.0</td>\n",
       "    </tr>\n",
       "  </tbody>\n",
       "</table>\n",
       "<p>5 rows × 41 columns</p>\n",
       "</div>"
      ],
      "text/plain": [
       "                              time      620.E      620.N      620.Z  \\\n",
       "265955     2016-12-12 06:16:51.970  -2.811468  -0.476750   3.540679   \n",
       "339250  2016-12-13 15:41:18.309900  -5.316660   2.072878   3.221343   \n",
       "599361  2016-12-25 14:47:46.259900  -2.017885  -3.948957  -1.040823   \n",
       "684677  2016-12-30 19:10:17.719900  21.922204  29.149752 -16.105661   \n",
       "444212     2016-12-17 21:08:18.330 -14.867736  29.301898  18.108470   \n",
       "\n",
       "            621.E      621.N      621.Z      622.E      622.N      622.Z  ...  \\\n",
       "265955  -0.627255   0.607879  -0.897139   0.479111  -0.308930  -0.412383  ...   \n",
       "339250   3.409503   8.004362   6.370336  -0.567258   7.858878  -3.722447  ...   \n",
       "599361  -3.438563  -1.008525   1.950180  -2.101724   0.721918  -0.176649  ...   \n",
       "684677   5.620300   3.856019 -12.266080  -7.790914 -29.153973   2.297685  ...   \n",
       "444212  10.940997 -28.635839 -16.429671 -33.655671   3.050293 -13.714287  ...   \n",
       "\n",
       "             630.E      630.N      630.Z       631.E       631.N      631.Z  \\\n",
       "265955    1.443279  -0.013969   1.538576   -4.731243    3.978778   3.028170   \n",
       "339250   -6.404402   4.249873   2.119223    0.673406  -14.190167   2.042763   \n",
       "599361    3.323789   4.254823   5.132431    1.522066    3.329675  -1.615979   \n",
       "684677  -11.514440  78.388521  61.454727  -50.031046  -22.796383  32.567850   \n",
       "444212  131.318883  90.595303  -1.985036  186.333611  255.017514  23.164712   \n",
       "\n",
       "             632.E     632.N       632.Z  earthquake  \n",
       "265955   -0.667386 -0.898819    2.981829         0.0  \n",
       "339250    7.767400  1.960283  -11.611028         1.0  \n",
       "599361    0.955706  0.800079   -3.787293         0.0  \n",
       "684677 -210.080764  8.546577  -84.538442         1.0  \n",
       "444212 -114.304921  3.692180 -276.190169         1.0  \n",
       "\n",
       "[5 rows x 41 columns]"
      ]
     },
     "execution_count": 3,
     "metadata": {},
     "output_type": "execute_result"
    }
   ],
   "source": [
    "data = pd.read_csv('append_files_filter_bandpass.csv')\n",
    "data.sample(5)"
   ]
  },
  {
   "cell_type": "markdown",
   "metadata": {},
   "source": [
    "Разделяем данные на матрицу признаков $X$ и столбец ответов $y$, смотрим их размеры."
   ]
  },
  {
   "cell_type": "code",
   "execution_count": 4,
   "metadata": {},
   "outputs": [
    {
     "name": "stdout",
     "output_type": "stream",
     "text": [
      "(702000, 39)\n",
      "(702000,)\n"
     ]
    }
   ],
   "source": [
    "X = data.drop([target,'time'],axis = 1)\n",
    "y = data[target]\n",
    "\n",
    "print(X.shape)\n",
    "print(y.shape)"
   ]
  },
  {
   "cell_type": "markdown",
   "metadata": {},
   "source": [
    "Перед обучением модели данные были заранее размечены, сделано это в другом ноутбуке. Сейчас необходимо разделить данные на тренировочную и тестовую выборки."
   ]
  },
  {
   "cell_type": "code",
   "execution_count": 5,
   "metadata": {},
   "outputs": [],
   "source": [
    "X_train, X_test, y_train, y_test = train_test_split(X.values, y.values, \n",
    "                                                    train_size=0.8, random_state=42)"
   ]
  },
  {
   "cell_type": "markdown",
   "metadata": {},
   "source": [
    "Смотрим на размер выборок после разделения."
   ]
  },
  {
   "cell_type": "code",
   "execution_count": 6,
   "metadata": {},
   "outputs": [
    {
     "name": "stdout",
     "output_type": "stream",
     "text": [
      "(561600, 39) (140400, 39)\n",
      "(561600,) (140400,)\n"
     ]
    }
   ],
   "source": [
    "print(X_train.shape, X_test.shape)\n",
    "print(y_train.shape, y_test.shape)"
   ]
  },
  {
   "cell_type": "markdown",
   "metadata": {},
   "source": [
    "## Обучение моделей\n",
    "\n",
    "[В начало](#Навигация)\n",
    "\n",
    "#### Метрика\n",
    "Перед решением любой задачи важно понимать, как будет оцениваться результат. В данном случае используется стандартная для задачи классификации метрика ROC-AUC. Её можно вычислить используя только предсказанные вероятности и истинные классы без конкретного порога классификации + она работает даже если классы в данных сильно несбалансированы (примеров одного класса в десятки раз больше примеров другого). Именно поэтому она очень удобна для оценки.\n",
    "\n",
    "Посчитать её легко:"
   ]
  },
  {
   "cell_type": "code",
   "execution_count": 7,
   "metadata": {},
   "outputs": [
    {
     "data": {
      "text/plain": [
       "0.8333333333333333"
      ]
     },
     "execution_count": 7,
     "metadata": {},
     "output_type": "execute_result"
    }
   ],
   "source": [
    "from sklearn.metrics import roc_auc_score\n",
    "\n",
    "y_true = [0, 1, 1, 0, 1]\n",
    "y_predictions = [0.1, 0.9, 0.4, 0.6, 0.61]\n",
    "\n",
    "roc_auc_score(y_true, y_predictions)"
   ]
  },
  {
   "cell_type": "markdown",
   "metadata": {},
   "source": [
    "### Обучаем модель RandomForestClassifier\n",
    "\n",
    "[В начало](#Навигация)"
   ]
  },
  {
   "cell_type": "code",
   "execution_count": 8,
   "metadata": {},
   "outputs": [
    {
     "data": {
      "image/png": "[encoded data removed]",
      "text/plain": [
       "<Figure size 720x504 with 1 Axes>"
      ]
     },
     "metadata": {
      "needs_background": "light"
     },
     "output_type": "display_data"
    },
    {
     "name": "stdout",
     "output_type": "stream",
     "text": [
      "CPU times: user 41min 15s, sys: 1.12 s, total: 41min 16s\n",
      "Wall time: 41min 18s\n"
     ]
    }
   ],
   "source": [
    "%%time\n",
    "from sklearn.ensemble import RandomForestClassifier\n",
    "\n",
    "clf = RandomForestClassifier()\n",
    "clf.fit(X_train, y_train)\n",
    "prediction = clf.predict_proba(X_test)\n",
    "\n",
    "y_train_predicted = clf.predict_proba(X_train)[:, 1]\n",
    "y_test_predicted = clf.predict_proba(X_test)[:, 1]\n",
    "predict_class = clf.predict(X_test)\n",
    "\n",
    "train_auc = roc_auc_score(y_train, y_train_predicted)\n",
    "test_auc = roc_auc_score(y_test, y_test_predicted)\n",
    "\n",
    "plt.figure(figsize=(10,7))\n",
    "plt.plot(*roc_curve(y_train, y_train_predicted)[:2], label='train AUC={:.4f}'.format(train_auc))\n",
    "plt.plot(*roc_curve(y_test, y_test_predicted)[:2], label='test AUC={:.4f}'.format(test_auc))\n",
    "legend_box = plt.legend(fontsize='large', framealpha=1).get_frame()\n",
    "legend_box.set_facecolor(\"white\")\n",
    "legend_box.set_edgecolor(\"black\")\n",
    "plt.plot(np.linspace(0,1,100), np.linspace(0,1,100))\n",
    "plt.grid()\n",
    "plt.title('Метрика качества модели RandomForestClassifier, roc-auc score')\n",
    "plt.show()"
   ]
  },
  {
   "attachments": {},
   "cell_type": "markdown",
   "metadata": {},
   "source": [
    "<p style=\"align: center;\"><img align=center src=\"https://upload.wikimedia.org/wikipedia/commons/thumb/2/26/Precisionrecall.svg/1200px-Precisionrecall.svg.png\" width=500 height=450/></p>\n",
    "\n",
    "\n",
    "<p style=\"align: center;\"><img align=center src=\"https://www.researchgate.net/publication/336402347/figure/fig3/AS:812472659349505@1570719985505/Calculation-of-Precision-Recall-and-Accuracy-in-the-confusion-matrix.ppm\" width=500 height=450/></p>"
   ]
  },
  {
   "cell_type": "code",
   "execution_count": 9,
   "metadata": {},
   "outputs": [
    {
     "name": "stdout",
     "output_type": "stream",
     "text": [
      "Accuracy score:  0.901\n",
      "Precision score:  0.853\n",
      "Recall score:  0.8489\n"
     ]
    }
   ],
   "source": [
    "print('Accuracy score: ',round(accuracy_score(y_test, predict_class),4))\n",
    "print('Precision score: ',round(precision_score(y_test, predict_class),4))\n",
    "print('Recall score: ',round(recall_score(y_test, predict_class),4))"
   ]
  },
  {
   "cell_type": "markdown",
   "metadata": {},
   "source": [
    "При запуске с параметрами по умолчанию модель достигает точности 1.00 на тренировочных данных, но не может выдать такой же результат на тестовых данных. Это говорит о переобучении модели под тренировочные данные. Решение $-$ уменьшение глубины деревьев и увеличение минимального числа элементов в листе дерева с 1 до 5."
   ]
  },
  {
   "cell_type": "code",
   "execution_count": 10,
   "metadata": {},
   "outputs": [
    {
     "name": "stdout",
     "output_type": "stream",
     "text": [
      "CPU times: user 27min 46s, sys: 694 ms, total: 27min 47s\n",
      "Wall time: 3min 35s\n"
     ]
    }
   ],
   "source": [
    "%%time\n",
    "\n",
    "clf = RandomForestClassifier(n_estimators = 100,max_depth = 25, n_jobs = -1,min_samples_split=5,max_features='log2')\n",
    "clf.fit(X_train, y_train)\n",
    "prediction = clf.predict_proba(X_test)\n",
    "predict_class = clf.predict(X_test)"
   ]
  },
  {
   "cell_type": "code",
   "execution_count": 11,
   "metadata": {},
   "outputs": [
    {
     "name": "stdout",
     "output_type": "stream",
     "text": [
      "ROC-AUC score:  0.938\n"
     ]
    }
   ],
   "source": [
    "print('ROC-AUC score: ',round(roc_auc_score(y_test, prediction[:,1]),4))"
   ]
  },
  {
   "cell_type": "code",
   "execution_count": 12,
   "metadata": {},
   "outputs": [
    {
     "name": "stdout",
     "output_type": "stream",
     "text": [
      "Accuracy score:  0.8969\n",
      "Precision score:  0.8688\n",
      "Recall score:  0.8128\n"
     ]
    }
   ],
   "source": [
    "print('Accuracy score: ',round(accuracy_score(y_test, predict_class),4))\n",
    "print('Precision score: ',round(precision_score(y_test, predict_class),4))\n",
    "print('Recall score: ',round(recall_score(y_test, predict_class),4))"
   ]
  },
  {
   "cell_type": "code",
   "execution_count": 13,
   "metadata": {},
   "outputs": [
    {
     "data": {
      "image/png": "[encoded data removed]",
      "text/plain": [
       "<Figure size 720x504 with 1 Axes>"
      ]
     },
     "metadata": {
      "needs_background": "light"
     },
     "output_type": "display_data"
    }
   ],
   "source": [
    "y_train_predicted = clf.predict_proba(X_train)[:, 1]\n",
    "y_test_predicted = clf.predict_proba(X_test)[:, 1]\n",
    "\n",
    "train_auc = roc_auc_score(y_train, y_train_predicted)\n",
    "test_auc = roc_auc_score(y_test, y_test_predicted)\n",
    "\n",
    "plt.figure(figsize=(10,7))\n",
    "plt.plot(*roc_curve(y_train, y_train_predicted)[:2], label='train AUC={:.4f}'.format(train_auc))\n",
    "plt.plot(*roc_curve(y_test, y_test_predicted)[:2], label='test AUC={:.4f}'.format(test_auc))\n",
    "legend_box = plt.legend(fontsize='large', framealpha=1).get_frame()\n",
    "legend_box.set_facecolor(\"white\")\n",
    "legend_box.set_edgecolor(\"black\")\n",
    "plt.plot(np.linspace(0,1,100), np.linspace(0,1,100))\n",
    "plt.grid()\n",
    "plt.title('Метрика качества модели RandomForestClassifier, roc-auc score')\n",
    "plt.show()"
   ]
  },
  {
   "cell_type": "markdown",
   "metadata": {},
   "source": [
    "Из графика видно, что качество на тренировочной и тестовой выборках почти совпадает, $-$ это значит, что модель не переобучается и хорошо находит зависимости."
   ]
  },
  {
   "cell_type": "markdown",
   "metadata": {},
   "source": [
    "### Обучаем модель XGBClassifier\n",
    "\n",
    "[В начало](#Навигация)\n",
    "\n",
    "<div class=\"alert alert-block alert-info\">\n",
    "<b>Совет.</b> Библиотека xgboost изначально не установлена в пакете Anaconda, и её необходимо установить самостоятельно для обучения следующей модели.\n",
    " <ul>\n",
    " <li> В Windows через графический интерфейс Anaconda Navigator --> environments --> search all \"xgboost\" --> install </li>\n",
    " <li> В Linux Ubuntu в командной строке достаточно прописать команду <b>pip install xgboost</b> </li>\n",
    " </ul>\n",
    "\n",
    "</div>"
   ]
  },
  {
   "cell_type": "code",
   "execution_count": 14,
   "metadata": {},
   "outputs": [
    {
     "name": "stdout",
     "output_type": "stream",
     "text": [
      "[23:13:20] WARNING: ../src/learner.cc:1061: Starting in XGBoost 1.3.0, the default evaluation metric used with the objective 'binary:logistic' was changed from 'error' to 'logloss'. Explicitly set eval_metric if you'd like to restore the old behavior.\n",
      "CPU times: user 41min 56s, sys: 858 ms, total: 41min 57s\n",
      "Wall time: 5min 28s\n"
     ]
    }
   ],
   "source": [
    "%%time\n",
    "boosting_model = xgboost.XGBClassifier(n_estimators=200,learning_rate = 0.1, max_depth = 5,subsample = 0.7)\n",
    "boosting_model.fit(X_train, y_train)\n",
    "\n",
    "y_train_predicted = boosting_model.predict_proba(X_train)[:, 1]\n",
    "y_test_predicted = boosting_model.predict_proba(X_test)[:, 1]\n",
    "y_test_predicted_class = boosting_model.predict(X_test)"
   ]
  },
  {
   "cell_type": "markdown",
   "metadata": {},
   "source": [
    "<p style=\"align: center;\"><img align=center src=\"https://upload.wikimedia.org/wikipedia/commons/thumb/2/26/Precisionrecall.svg/1200px-Precisionrecall.svg.png\" width=500 height=450/></p>\n",
    "\n",
    "\n",
    "<p style=\"align: center;\"><img align=center src=\"https://www.researchgate.net/publication/336402347/figure/fig3/AS:812472659349505@1570719985505/Calculation-of-Precision-Recall-and-Accuracy-in-the-confusion-matrix.ppm\" width=500 height=450/></p>"
   ]
  },
  {
   "cell_type": "code",
   "execution_count": 15,
   "metadata": {},
   "outputs": [
    {
     "name": "stdout",
     "output_type": "stream",
     "text": [
      "ROC-AUC score:  0.9392\n",
      "Accuracy score:  0.8903\n",
      "Precision score:  0.8707\n",
      "Recall score:  0.7873\n"
     ]
    }
   ],
   "source": [
    "print('ROC-AUC score: ',round(roc_auc_score(y_test, y_test_predicted),4))\n",
    "print('Accuracy score: ',round(accuracy_score(y_test, y_test_predicted_class),4))\n",
    "print('Precision score: ',round(precision_score(y_test, y_test_predicted_class),4))\n",
    "print('Recall score: ',round(recall_score(y_test, y_test_predicted_class),4))"
   ]
  },
  {
   "cell_type": "code",
   "execution_count": 16,
   "metadata": {},
   "outputs": [
    {
     "data": {
      "image/png": "[encoded data removed]",
      "text/plain": [
       "<Figure size 720x504 with 1 Axes>"
      ]
     },
     "metadata": {
      "needs_background": "light"
     },
     "output_type": "display_data"
    }
   ],
   "source": [
    "train_auc = roc_auc_score(y_train, y_train_predicted)\n",
    "test_auc = roc_auc_score(y_test, y_test_predicted)\n",
    "\n",
    "plt.figure(figsize=(10,7))\n",
    "plt.plot(*roc_curve(y_train, y_train_predicted)[:2], label='train AUC={:.4f}'.format(train_auc))\n",
    "plt.plot(*roc_curve(y_test, y_test_predicted)[:2], label='test AUC={:.4f}'.format(test_auc))\n",
    "legend_box = plt.legend(fontsize='large', framealpha=1).get_frame()\n",
    "legend_box.set_facecolor(\"white\")\n",
    "legend_box.set_edgecolor(\"black\")\n",
    "plt.plot(np.linspace(0,1,100), np.linspace(0,1,100))\n",
    "plt.grid()\n",
    "plt.title('Метрика качества модели XGBClassifier, roc-auc score')\n",
    "plt.show()"
   ]
  },
  {
   "cell_type": "markdown",
   "metadata": {},
   "source": [
    "Модель XGBClassifier ещё лучше предсказывает и меньше переобучается. "
   ]
  },
  {
   "cell_type": "markdown",
   "metadata": {},
   "source": [
    "### Проверяем модель на тестовых данных\n",
    "\n",
    "[В начало](#Навигация)"
   ]
  },
  {
   "cell_type": "markdown",
   "metadata": {},
   "source": [
    "Пусть следующие файлы, полученные из файлов miniSEED, будут тестовыми. Эти файлы модель ещё не видела, поэтому посмотрим, как хорошо модель предскажет землетрясение.\n"
   ]
  },
  {
   "cell_type": "code",
   "execution_count": 17,
   "metadata": {},
   "outputs": [],
   "source": [
    " # Файлы для проверки обученности модели:\n",
    "test_files = [\n",
    "    '2016-12-08 15:09:00.7099.csv', # четко\n",
    "    '2016-12-13 01:05:03.4100.csv',\n",
    "    '2016-12-13 01:52:50.7799.csv',\n",
    "    '2016-12-13 15:17:59.5499.csv',\n",
    "    '2016-12-13 17:23:21.2999.csv',\n",
    "    '2016-12-16 16:50:56.8199.csv',\n",
    "    '2016-12-17 15:58:06.3099.csv',\n",
    "    '2016-12-22 05:00:42.3699.csv',\n",
    "    '2016-12-23 07:42:44.7299.csv',\n",
    "    '2016-12-23 13:08:15.8900.csv',\n",
    "    '2016-12-23 15:27:13.1400.csv',\n",
    "    '2016-12-23 15:43:14.6599.csv',\n",
    "    '2016-12-25 08:49:53.1800.csv',\n",
    "    '2016-12-25 14:10:05.0700.csv', # четко\n",
    "    '2016-12-25 14:49:09.6099.csv',\n",
    "    '2016-12-26 02:47:12.9200.csv',\n",
    "    '2016-12-26 09:07:10.7799.csv',\n",
    "    '2016-12-26 09:07:43.6699.csv',\n",
    "    '2016-12-26 11:39:40.4399.csv',\n",
    "    '2016-12-26 23:21:42.9199.csv',\n",
    "    '2016-12-27 03:28:36.3899.csv', # четко\n",
    "    '2016-12-27 13:45:46.3699.csv',\n",
    "    '2016-12-27 14:39:25.3500.csv',\n",
    "    '2016-12-27 22:58:12.1000.csv',\n",
    "    '2016-12-28 03:58:11.1700.csv',\n",
    "    '2016-12-28 08:34:32.4099.csv',\n",
    "    '2016-12-28 20:44:27.8799.csv',\n",
    "    '2016-12-28 22:49:21.1599.csv', # четко\n",
    "    '2016-12-29 09:52:47.5999.csv',\n",
    "    '2016-12-30 12:25:51.2500.csv',\n",
    "    '2016-12-30 19:18:41.0699.csv',\n",
    "    '2016-12-31 18:38:12.2700.csv',\n",
    "    '2016-12-09 23:17:00.7300.csv', # не совсем четко\n",
    "    '2016-12-23 03:52:15.8199.csv'       \n",
    "]\n",
    "\n",
    "if (OS == 'Windows'):\n",
    "    for i in range(len(test_files)):\n",
    "        try:\n",
    "            test_files[i] = test_files[i].replace(':','_')\n",
    "        except:\n",
    "            pass"
   ]
  },
  {
   "cell_type": "markdown",
   "metadata": {},
   "source": [
    "#### Используем ранее обученную модель\n",
    "\n",
    "Далее происходит выделение границ землетрясения красным и строятся графики. Модель определяет начало и конец землетрясения, и обозначает эти метки времени для каждой станции. Программа строит все графики для каждого файла из списка *test_files* (файлы хранятся в директории *path*) и сохраняет в директорию *path_image*."
   ]
  },
  {
   "cell_type": "code",
   "execution_count": 18,
   "metadata": {},
   "outputs": [
    {
     "name": "stdout",
     "output_type": "stream",
     "text": [
      "Файл 2016-12-08 15:09:00.7099.csv\n",
      "Уже загрузили 1 файлов.\n",
      "Осталось загрузить ещё 5 файлов.\n",
      "\n",
      "Файл 2016-12-13 01:05:03.4100.csv\n",
      "Уже загрузили 2 файлов.\n",
      "Осталось загрузить ещё 4 файлов.\n",
      "\n",
      "Файл 2016-12-13 01:52:50.7799.csv\n",
      "Уже загрузили 3 файлов.\n",
      "Осталось загрузить ещё 3 файлов.\n",
      "\n",
      "Файл 2016-12-13 15:17:59.5499.csv\n",
      "Уже загрузили 4 файлов.\n",
      "Осталось загрузить ещё 2 файлов.\n",
      "\n",
      "Файл 2016-12-13 17:23:21.2999.csv\n",
      "Уже загрузили 5 файлов.\n",
      "Осталось загрузить ещё 1 файлов.\n",
      "\n"
     ]
    }
   ],
   "source": [
    "for kkk,file in enumerate(test_files):\n",
    "    test_origin = pd.read_csv(path + file)\n",
    "    test = test_origin.copy()\n",
    "    X_test = test.drop(['time'],axis = 1)\n",
    "    best_model = boosting_model # тут прописываем лучшую модель (boosting_model,clf, etc..)\n",
    "\n",
    "    predict_proba = best_model.predict_proba(X_test.values)\n",
    "    predict_class = best_model.predict(X_test.values)\n",
    "    test_origin['predict_proba'] = test['620.E']\n",
    "    test_origin['predict_class'] = test['620.E']\n",
    "\n",
    "    test_origin['predict_proba'] = predict_proba # Предсказываем вероятность принадлежности классу\n",
    "    test_origin['predict_class'] = predict_class # и сам класс\n",
    " \n",
    "\n",
    "    #########################################################################\n",
    " #   Выделяем границы землетрясения красным\n",
    "    k = 0\n",
    "    count = 0\n",
    "    last_element = 0\n",
    "    index_sta,index_end = 0,0\n",
    "\n",
    "    porog_start = 10 # порог начала землетрясения\n",
    "    porog_end = 400 # порог конца\n",
    "\n",
    "    print('Файл {}'.format(file))\n",
    "    \n",
    "    for ind, i in enumerate(test_origin['predict_class']):\n",
    "        if (i==1)and(k==0):\n",
    "            count+=1\n",
    "        elif (i==0)and(k==1):\n",
    "            count+=1\n",
    "        else:\n",
    "            count=0\n",
    "\n",
    "        if (count==porog_start)and(k==0):\n",
    "#             print('Время начала землетрясения: ',test_origin['time'][ind-porog_start])\n",
    "            time_begin  = test_origin['time'][ind-porog_start]\n",
    "            k = 1 # землетрясение началось\n",
    "            index_sta = ind-porog_start\n",
    "            count = 0\n",
    "            continue\n",
    "        if (count==porog_end)and(k==1):\n",
    "            time_end = test_origin['time'][ind-porog_end]\n",
    "#             print('Время окончания землетрясения: ', test_origin['time'][ind-porog_end])\n",
    "            index_end = ind-porog_end\n",
    "            break\n",
    "\n",
    "####################################################################\n",
    "            # строим график\n",
    "    df5 = test_origin\n",
    "    df5['time'] = df5['time'].apply(lambda x: pd.Timestamp(x))\n",
    "    columns = list(df5.columns)[1:-2]\n",
    "    date = str(df5['time'][0].date())\n",
    "\n",
    "\n",
    "    for three_cols in range(0,len(columns),3):\n",
    "\n",
    "        fig, axs = plt.subplots(nrows=3, ncols=1, figsize=(12, 7))\n",
    "\n",
    "        column = columns[three_cols]\n",
    "        axs[0].grid(color=\"blue\", which=\"both\", linestyle=':', linewidth=0.5)\n",
    "        axs[0].plot(df5['time'], np.array(df5[column]), '-',color = 'grey')\n",
    "        axs[0].vlines(df5['time'][index_sta], np.array(df5[column]).min(), np.array(df5[column]).max(), color = 'r',linestyle='dashed')\n",
    "        axs[0].vlines(df5['time'][index_end], np.array(df5[column]).min(), np.array(df5[column]).max(), color = 'r',linestyle='dashed')\n",
    "        axs[0].set_xlabel('Time')\n",
    "        axs[0].set_title(column + ', ' + date)\n",
    "\n",
    "\n",
    "        column = columns[three_cols+1]\n",
    "        axs[1].grid(color=\"blue\", which=\"both\", linestyle=':', linewidth=0.5)\n",
    "        axs[1].plot(df5['time'], np.array(df5[column]), '-',color = 'green')\n",
    "        axs[1].vlines(df5['time'][index_sta], np.array(df5[column]).min(), np.array(df5[column]).max(), color = 'r',linestyle='dashed')\n",
    "        axs[1].vlines(df5['time'][index_end], np.array(df5[column]).min(), np.array(df5[column]).max(), color = 'r',linestyle='dashed')\n",
    "        axs[1].set_xlabel('Time')\n",
    "        axs[1].set_title(column + ', ' + date)\n",
    "\n",
    "\n",
    "        column = columns[three_cols+2]\n",
    "        axs[2].grid(color=\"blue\", which=\"both\", linestyle=':', linewidth=0.5)\n",
    "        axs[2].plot(df5['time'], np.array(df5[column]), '-',color = 'purple')\n",
    "        axs[2].vlines(df5['time'][index_sta], np.array(df5[column]).min(), np.array(df5[column]).max(), color = 'r',linestyle='dashed')\n",
    "        axs[2].vlines(df5['time'][index_end], np.array(df5[column]).min(), np.array(df5[column]).max(), color = 'r',linestyle='dashed')\n",
    "        axs[2].set_xlabel('Time')\n",
    "        axs[2].set_title(column + ', ' + date)\n",
    "\n",
    "\n",
    "        plt.tight_layout()\n",
    "        \n",
    "        if (OS == 'Windows'):\n",
    "            directory = str(df5['time'][0]) + \"\\\\\" # для Windows '\\\\'\n",
    "            directory = directory.replace(\":\",\"_\") # только для Windows делаем, т.к. папки в Windows нельзя называть с ':'\n",
    "        else:\n",
    "            directory = str(df5['time'][0]) + \"/\" # для Linux '/'\n",
    "                    \n",
    "        path2 = os.path.join(path_image,directory)\n",
    "        try: \n",
    "            os.makedirs(path2) \n",
    "        except OSError as error: \n",
    "            pass\n",
    "        \n",
    "        path2 = path2 + '{}.jpeg'.format(column[:3])\n",
    "        fig.savefig(path2,dpi=100)\n",
    "        plt.cla()\n",
    "        plt.clf()\n",
    "        fig.clf()\n",
    "        plt.close('all')\n",
    "        plt.close(fig)\n",
    "        plt.close()\n",
    "        \n",
    "    with open(path2[0:-8] + 'earthquake_time.txt','w') as f: # сохраняем время землетрясения в файл\n",
    "        a = \"Время начала землетрясения: {}\".format(time_begin)\n",
    "        b = \"Время окончания землетрясения: {}\".format(time_end)\n",
    "        f.write(a)\n",
    "        f.write('\\n')\n",
    "        f.write(b)\n",
    "\n",
    "    plt.cla()\n",
    "    plt.clf()\n",
    "    fig.clf()\n",
    "    plt.close('all')\n",
    "    plt.close(fig)\n",
    "    plt.close()\n",
    "    print('Уже загрузили {} файлов.'.format(kkk + 1))\n",
    "    print('Осталось загрузить ещё {} файлов.\\n'.format(len(test_files)-kkk))\n"
   ]
  },
  {
   "cell_type": "markdown",
   "metadata": {},
   "source": [
    "## Выводы\n",
    "\n",
    "[В начало](#Навигация)\n",
    "\n",
    "<div class=\"alert alert-block alert-success\">\n",
    "<b>Результат работы программы.</b> \n",
    "<ol>\n",
    " <li>Обучение происходило на фильтрованных данных, что увеличило точность моделей. </li>\n",
    " <li>Модель XGBoost с гиперпараметрами n_estimators = 200, learning_rate = 0.1, max_depth = 5, subsample = 0.7 показала лучший результат.</li>\n",
    " <li> Модель уже хорошо определяет наличие землетрясения и может обозначить его временные границы на сейсмограмме, пусть и с некоторыми ошибками.</li>\n",
    "</ol>\n",
    "</div>\n",
    "\n",
    "- [x] Подготовить данные для работы, перевести их в формат csv\n",
    "- [x] Визуализировать данные\n",
    "- [x] Разметить файлы, опираясь на их визуализацию\n",
    "- [x] Объединить файлы в датафрейм\n",
    "- [x] Обучить модели, выявить лучшую\n",
    "- [x] Протестировать модель, дать оценку\n",
    "\n",
    "\n",
    "\n",
    "<div class=\"alert alert-block alert-info\">\n",
    "<b>Планы.</b>\n",
    " <ul>\n",
    " <li> Применить к данным вейвлет-преобразование.</li>\n",
    " <li> Обучить модели на новых данных, выявить лучшую модель.</li>\n",
    " </ul>\n",
    "\n",
    "</div>\n"
   ]
  }
 ],
 "metadata": {
  "kernelspec": {
   "display_name": "Python 3",
   "language": "python",
   "name": "python3"
  },
  "language_info": {
   "codemirror_mode": {
    "name": "ipython",
    "version": 3
   },
   "file_extension": ".py",
   "mimetype": "text/x-python",
   "name": "python",
   "nbconvert_exporter": "python",
   "pygments_lexer": "ipython3",
   "version": "3.8.5"
  }
 },
 "nbformat": 4,
 "nbformat_minor": 2
}

{
 "cells": [
  {
   "cell_type": "markdown",
   "metadata": {},
   "source": [
    "## Подготовка и визуализация данных\n",
    "\n",
    "<div class=\"alert alert-block alert-warning\">\n",
    "<b>Структура данных.</b> Исходные данные представляют собой файлы в формате miniSEED. В каждом файле miniSEED записаны данные с трёх каналов (E, N, Z) локальной сети из $13$ сейсмостанций, для каждой пары станция+канал запись имеет длину $27000$ значений. То есть всего в каждом файле хранится $ 13 * 3 = 39$ столбцов длиной $27000$ значений. Разница во времени между соседними записями равна $0.01$ сек, так как частота дискретизации равна $100$ Гц.\n",
    "</div>\n",
    "\n",
    "1. В этом ноутбуке исходные данные из формата miniSEED конвертирую в csv;\n",
    "2. Строю сейсмограммы для каждого файла.\n",
    "\n",
    "Ссылка на [проект][] в github.\n",
    "\n",
    "\n",
    "[проект]: https://github.com/KirillLavrentev/microearthquake_detection \"GitHub\"\n",
    "\n",
    "### Навигация\n",
    "\n",
    "[1. Сохраняем файлы в csv-формат](#Сохраним-все-файлы-в-csv)\n",
    "\n",
    "[2. Строим графики](#Строим-графики)"
   ]
  },
  {
   "cell_type": "code",
   "execution_count": 1,
   "metadata": {},
   "outputs": [],
   "source": [
    "from obspy.core import read\n",
    "from obspy import read\n",
    "\n",
    "import os\n",
    "import pandas as pd\n",
    "import datetime as dt\n",
    "import numpy as np\n",
    "from tqdm.notebook import tqdm\n",
    "import matplotlib.pyplot as plt\n"
   ]
  },
  {
   "cell_type": "markdown",
   "metadata": {},
   "source": [
    "Прописываем пути к файлам."
   ]
  },
  {
   "cell_type": "code",
   "execution_count": 2,
   "metadata": {},
   "outputs": [],
   "source": [
    "OS = 'Linux' # указываем тип ОС (Linux/Windows), так как на Windows запуск немного отличается\n",
    "\n",
    "# Путь к файлам miniSEED\n",
    "path = \"/home/kl/Рабочий стол/Diploma_master/data/origin_data/\"\n",
    "\n",
    "# здесь хранятся преобразованные файлы miniSEED-->csv\n",
    "raw_csv_path = '/home/kl/Рабочий стол/Diploma_master/data/origin_in_csv_bandpass/'\n",
    "\n",
    "# сюда будем сохранять графики\n",
    "path_image = \"/home/kl/Рабочий стол/Diploma_master/graph_images/graph_images_bandpass/\""
   ]
  },
  {
   "cell_type": "markdown",
   "metadata": {},
   "source": [
    "Считываем все файлы miniSEED из директории *path*.\n",
    "\n",
    "<div class=\"alert alert-block alert-info\">\n",
    "<b>Совет 1.</b> Пути для операционных систем Windows и Linux записываются по-разному:\n",
    " <ul>\n",
    " <li>C:\\\\\\Users\\\\\\User-1\\\\\\Desktop\\\\\\Diploma_master\\\\\\origin_in_csv_bandpass\\\\\\ (Windows)</li>\n",
    " <li>/home/kl/Рабочий стол/Diploma_master/data/origin_in_csv_bandpass/ (Linux)</li>\n",
    " </ul>\n",
    "\n",
    "</div>\n",
    "\n",
    "<div class=\"alert alert-block alert-info\">\n",
    "<b>Совет 2.</b> Для запуска этой программы необходимо установить библиотеку ObsPy.\n",
    "</div>\n"
   ]
  },
  {
   "cell_type": "markdown",
   "metadata": {},
   "source": [
    "Инструкцию по установке ObsPy можно найти [здесь][].\n",
    "\n",
    "\n",
    "[здесь]: https://github.com/obspy/obspy/wiki/Installation-via-Anaconda\n"
   ]
  },
  {
   "cell_type": "code",
   "execution_count": 3,
   "metadata": {},
   "outputs": [
    {
     "data": {
      "text/plain": [
       "['2016-12-13-0105-03M.arct__039',\n",
       " '2016-12-13-1515-34M.arct__039',\n",
       " '2016-12-25-0318-26M.arct__039']"
      ]
     },
     "execution_count": 3,
     "metadata": {},
     "output_type": "execute_result"
    }
   ],
   "source": [
    "files = os.listdir(path)\n",
    "files[:3]"
   ]
  },
  {
   "cell_type": "markdown",
   "metadata": {},
   "source": [
    "### Сохраним все файлы в csv\n",
    "[В начало](#Навигация)"
   ]
  },
  {
   "cell_type": "markdown",
   "metadata": {},
   "source": [
    "Теперь считываем данные из файлов miniSEED, применяем к ним фильтр, и сохраняем в формат csv.\n"
   ]
  },
  {
   "cell_type": "code",
   "execution_count": 4,
   "metadata": {},
   "outputs": [
    {
     "data": {
      "application/vnd.jupyter.widget-view+json": {
       "model_id": "c3ff90b8705b4f3783b0b7a743a995e2",
       "version_major": 2,
       "version_minor": 0
      },
      "text/plain": [
       "  0%|          | 0/105 [00:00<?, ?it/s]"
      ]
     },
     "metadata": {},
     "output_type": "display_data"
    }
   ],
   "source": [
    "filt = 'bandpass' # Нужно ли как-нибудь обработать начальные данные?\n",
    "\n",
    "station_names = []\n",
    "station,time = '',''\n",
    "times = [n for n in range(27000)]\n",
    "data = []\n",
    "dicti = {'time':times}\n",
    "times = []\n",
    "for file in tqdm(files):\n",
    "    st = read(path + file)  # load example seismogram\n",
    "    dicti.clear()\n",
    "    times = [n for n in range(27000)]  # так делаем, чтобы столбец времени был первым, а не последним\n",
    "    dicti = {'time':times}\n",
    "    times = []\n",
    "    \n",
    "    for count,tr in enumerate(st):\n",
    "        if (filt): # если прописан фильтр, то применяем его к данным\n",
    "            tr.filter(filt, freqmin=6, freqmax=16, corners=6)\n",
    "\n",
    "        station = str(tr.stats.station) + '.' + str(tr.stats.channel)[-1]\n",
    "        station_names.append(station)\n",
    "\n",
    "        begin = pd.Timestamp(str(tr.stats.starttime))\n",
    "        time = begin\n",
    "        if (count == 0): # сохраняем время траекторий только один раз\n",
    "            for _ in range(len(tr)):\n",
    "                time = time + pd.Timedelta(seconds = 0.01)        \n",
    "                times.append(time) \n",
    "        dicti.update({station:tr.data})        \n",
    "        data.append(tr.data) # сохраняем данные каждого трека\n",
    "        \n",
    "    dicti.update({'time' : times})\n",
    "    df5 = pd.DataFrame(dicti)\n",
    "    name = str(time)[:24]\n",
    "    if (OS == 'Windows'):\n",
    "        name = name.replace(\":\",\"_\") # только для Windows делаем, т.к. папки в Windows нельзя называть с ':'\n",
    "        \n",
    "    df5.to_csv(raw_csv_path + name + '.csv', index=False)\n",
    "    times = []\n",
    "    dicti.clear()"
   ]
  },
  {
   "cell_type": "markdown",
   "metadata": {},
   "source": [
    "### Строим графики\n",
    "\n",
    "[В начало](#Навигация)\n",
    "\n",
    "Теперь построим графики для каждого файла. Для каждого временного промежутка построим по три графика (E, N, Z) на станцию. "
   ]
  },
  {
   "cell_type": "markdown",
   "metadata": {},
   "source": [
    "Перед визуализацией всех файлов, посмотрим, как выглядит график для одной станции."
   ]
  },
  {
   "cell_type": "code",
   "execution_count": 5,
   "metadata": {},
   "outputs": [
    {
     "data": {
      "text/html": [
       "<div>\n",
       "<style scoped>\n",
       "    .dataframe tbody tr th:only-of-type {\n",
       "        vertical-align: middle;\n",
       "    }\n",
       "\n",
       "    .dataframe tbody tr th {\n",
       "        vertical-align: top;\n",
       "    }\n",
       "\n",
       "    .dataframe thead th {\n",
       "        text-align: right;\n",
       "    }\n",
       "</style>\n",
       "<table border=\"1\" class=\"dataframe\">\n",
       "  <thead>\n",
       "    <tr style=\"text-align: right;\">\n",
       "      <th></th>\n",
       "      <th>time</th>\n",
       "      <th>620.E</th>\n",
       "      <th>620.N</th>\n",
       "      <th>620.Z</th>\n",
       "      <th>621.E</th>\n",
       "      <th>621.N</th>\n",
       "      <th>621.Z</th>\n",
       "      <th>622.E</th>\n",
       "      <th>622.N</th>\n",
       "      <th>622.Z</th>\n",
       "      <th>...</th>\n",
       "      <th>629.Z</th>\n",
       "      <th>630.E</th>\n",
       "      <th>630.N</th>\n",
       "      <th>630.Z</th>\n",
       "      <th>631.E</th>\n",
       "      <th>631.N</th>\n",
       "      <th>631.Z</th>\n",
       "      <th>632.E</th>\n",
       "      <th>632.N</th>\n",
       "      <th>632.Z</th>\n",
       "    </tr>\n",
       "  </thead>\n",
       "  <tbody>\n",
       "    <tr>\n",
       "      <th>0</th>\n",
       "      <td>2016-12-13 15:17:59.559900+00:00</td>\n",
       "      <td>-0.001022</td>\n",
       "      <td>0.003065</td>\n",
       "      <td>0.000341</td>\n",
       "      <td>-0.002043</td>\n",
       "      <td>0.005789</td>\n",
       "      <td>0.008173</td>\n",
       "      <td>-0.006811</td>\n",
       "      <td>0.000681</td>\n",
       "      <td>-0.005108</td>\n",
       "      <td>...</td>\n",
       "      <td>0.003405</td>\n",
       "      <td>0.004086</td>\n",
       "      <td>-0.003405</td>\n",
       "      <td>-0.002043</td>\n",
       "      <td>-0.002724</td>\n",
       "      <td>-0.008173</td>\n",
       "      <td>0.000000</td>\n",
       "      <td>-0.005449</td>\n",
       "      <td>0.004427</td>\n",
       "      <td>0.007832</td>\n",
       "    </tr>\n",
       "    <tr>\n",
       "      <th>1</th>\n",
       "      <td>2016-12-13 15:17:59.569900+00:00</td>\n",
       "      <td>-0.010994</td>\n",
       "      <td>0.029235</td>\n",
       "      <td>0.003324</td>\n",
       "      <td>-0.013474</td>\n",
       "      <td>0.050718</td>\n",
       "      <td>0.067175</td>\n",
       "      <td>-0.059669</td>\n",
       "      <td>0.007670</td>\n",
       "      <td>-0.045092</td>\n",
       "      <td>...</td>\n",
       "      <td>0.028813</td>\n",
       "      <td>0.036823</td>\n",
       "      <td>-0.028813</td>\n",
       "      <td>-0.017901</td>\n",
       "      <td>-0.026251</td>\n",
       "      <td>-0.078754</td>\n",
       "      <td>-0.006811</td>\n",
       "      <td>-0.049097</td>\n",
       "      <td>0.037082</td>\n",
       "      <td>0.063851</td>\n",
       "    </tr>\n",
       "    <tr>\n",
       "      <th>2</th>\n",
       "      <td>2016-12-13 15:17:59.579900+00:00</td>\n",
       "      <td>-0.052404</td>\n",
       "      <td>0.119967</td>\n",
       "      <td>0.013576</td>\n",
       "      <td>-0.033627</td>\n",
       "      <td>0.194043</td>\n",
       "      <td>0.234517</td>\n",
       "      <td>-0.230249</td>\n",
       "      <td>0.035422</td>\n",
       "      <td>-0.173457</td>\n",
       "      <td>...</td>\n",
       "      <td>0.105834</td>\n",
       "      <td>0.149007</td>\n",
       "      <td>-0.107196</td>\n",
       "      <td>-0.069347</td>\n",
       "      <td>-0.117547</td>\n",
       "      <td>-0.346170</td>\n",
       "      <td>-0.061031</td>\n",
       "      <td>-0.196746</td>\n",
       "      <td>0.133689</td>\n",
       "      <td>0.223325</td>\n",
       "    </tr>\n",
       "    <tr>\n",
       "      <th>3</th>\n",
       "      <td>2016-12-13 15:17:59.589900+00:00</td>\n",
       "      <td>-0.142621</td>\n",
       "      <td>0.264382</td>\n",
       "      <td>0.027743</td>\n",
       "      <td>-0.025392</td>\n",
       "      <td>0.397863</td>\n",
       "      <td>0.414057</td>\n",
       "      <td>-0.491502</td>\n",
       "      <td>0.084703</td>\n",
       "      <td>-0.359061</td>\n",
       "      <td>...</td>\n",
       "      <td>0.206732</td>\n",
       "      <td>0.345158</td>\n",
       "      <td>-0.223093</td>\n",
       "      <td>-0.148850</td>\n",
       "      <td>-0.317132</td>\n",
       "      <td>-0.901521</td>\n",
       "      <td>-0.246610</td>\n",
       "      <td>-0.443873</td>\n",
       "      <td>0.255918</td>\n",
       "      <td>0.404133</td>\n",
       "    </tr>\n",
       "    <tr>\n",
       "      <th>4</th>\n",
       "      <td>2016-12-13 15:17:59.599900+00:00</td>\n",
       "      <td>-0.226768</td>\n",
       "      <td>0.276213</td>\n",
       "      <td>0.020387</td>\n",
       "      <td>0.060510</td>\n",
       "      <td>0.346403</td>\n",
       "      <td>0.221801</td>\n",
       "      <td>-0.535237</td>\n",
       "      <td>0.090997</td>\n",
       "      <td>-0.336370</td>\n",
       "      <td>...</td>\n",
       "      <td>0.168623</td>\n",
       "      <td>0.450627</td>\n",
       "      <td>-0.256931</td>\n",
       "      <td>-0.161824</td>\n",
       "      <td>-0.541918</td>\n",
       "      <td>-1.464403</td>\n",
       "      <td>-0.579470</td>\n",
       "      <td>-0.535452</td>\n",
       "      <td>0.216885</td>\n",
       "      <td>0.256887</td>\n",
       "    </tr>\n",
       "  </tbody>\n",
       "</table>\n",
       "<p>5 rows × 40 columns</p>\n",
       "</div>"
      ],
      "text/plain": [
       "                              time     620.E     620.N     620.Z     621.E  \\\n",
       "0 2016-12-13 15:17:59.559900+00:00 -0.001022  0.003065  0.000341 -0.002043   \n",
       "1 2016-12-13 15:17:59.569900+00:00 -0.010994  0.029235  0.003324 -0.013474   \n",
       "2 2016-12-13 15:17:59.579900+00:00 -0.052404  0.119967  0.013576 -0.033627   \n",
       "3 2016-12-13 15:17:59.589900+00:00 -0.142621  0.264382  0.027743 -0.025392   \n",
       "4 2016-12-13 15:17:59.599900+00:00 -0.226768  0.276213  0.020387  0.060510   \n",
       "\n",
       "      621.N     621.Z     622.E     622.N     622.Z  ...     629.Z     630.E  \\\n",
       "0  0.005789  0.008173 -0.006811  0.000681 -0.005108  ...  0.003405  0.004086   \n",
       "1  0.050718  0.067175 -0.059669  0.007670 -0.045092  ...  0.028813  0.036823   \n",
       "2  0.194043  0.234517 -0.230249  0.035422 -0.173457  ...  0.105834  0.149007   \n",
       "3  0.397863  0.414057 -0.491502  0.084703 -0.359061  ...  0.206732  0.345158   \n",
       "4  0.346403  0.221801 -0.535237  0.090997 -0.336370  ...  0.168623  0.450627   \n",
       "\n",
       "      630.N     630.Z     631.E     631.N     631.Z     632.E     632.N  \\\n",
       "0 -0.003405 -0.002043 -0.002724 -0.008173  0.000000 -0.005449  0.004427   \n",
       "1 -0.028813 -0.017901 -0.026251 -0.078754 -0.006811 -0.049097  0.037082   \n",
       "2 -0.107196 -0.069347 -0.117547 -0.346170 -0.061031 -0.196746  0.133689   \n",
       "3 -0.223093 -0.148850 -0.317132 -0.901521 -0.246610 -0.443873  0.255918   \n",
       "4 -0.256931 -0.161824 -0.541918 -1.464403 -0.579470 -0.535452  0.216885   \n",
       "\n",
       "      632.Z  \n",
       "0  0.007832  \n",
       "1  0.063851  \n",
       "2  0.223325  \n",
       "3  0.404133  \n",
       "4  0.256887  \n",
       "\n",
       "[5 rows x 40 columns]"
      ]
     },
     "execution_count": 5,
     "metadata": {},
     "output_type": "execute_result"
    }
   ],
   "source": [
    "files = os.listdir(raw_csv_path)\n",
    "\n",
    "df5 = pd.read_csv(raw_csv_path + files[0])\n",
    "df5['time'] = df5['time'].apply(lambda x: pd.Timestamp(x))\n",
    "columns = list(df5.columns)[1:]\n",
    "date = str(df5['time'][0].date())\n",
    "df5.head()"
   ]
  },
  {
   "cell_type": "code",
   "execution_count": 6,
   "metadata": {},
   "outputs": [
    {
     "data": {
      "text/plain": [
       "(27000, 40)"
      ]
     },
     "execution_count": 6,
     "metadata": {},
     "output_type": "execute_result"
    }
   ],
   "source": [
    "df5.shape"
   ]
  },
  {
   "cell_type": "code",
   "execution_count": 7,
   "metadata": {},
   "outputs": [
    {
     "data": {
      "image/png": "[encoded data removed]",
      "text/plain": [
       "<Figure size 864x504 with 3 Axes>"
      ]
     },
     "metadata": {
      "needs_background": "light"
     },
     "output_type": "display_data"
    },
    {
     "name": "stdout",
     "output_type": "stream",
     "text": [
      "CPU times: user 6.3 s, sys: 540 ms, total: 6.84 s\n",
      "Wall time: 6.01 s\n"
     ]
    }
   ],
   "source": [
    "%%time\n",
    "fig, axs = plt.subplots(nrows=3, ncols=1, figsize=(12, 7))\n",
    "\n",
    "column = '623.E'\n",
    "axs[0].grid(color=\"blue\", which=\"both\", linestyle=':', linewidth=0.5)\n",
    "axs[0].plot(df5['time'], np.array(df5[column]), '-',color = 'grey')\n",
    "axs[0].set_xlabel('Time')\n",
    "axs[0].set_title(column + ', ' + date)\n",
    "\n",
    "\n",
    "column = '623.N'\n",
    "axs[1].grid(color=\"blue\", which=\"both\", linestyle=':', linewidth=0.5)\n",
    "axs[1].plot(df5['time'], np.array(df5[column]), '-',color = 'green')\n",
    "axs[1].set_xlabel('Time')\n",
    "axs[1].set_title(column + ', ' + date)\n",
    "\n",
    "\n",
    "column = '623.Z'\n",
    "axs[2].grid(color=\"blue\", which=\"both\", linestyle=':', linewidth=0.5)\n",
    "axs[2].plot(df5['time'], np.array(df5[column]), '-',color = 'purple')\n",
    "axs[2].set_xlabel('Time')\n",
    "axs[2].set_title(column + ', ' + date)\n",
    "\n",
    "\n",
    "plt.tight_layout()\n",
    "plt.show()\n"
   ]
  },
  {
   "cell_type": "markdown",
   "metadata": {},
   "source": [
    "Убеждаемся, что тестовый график выглядит как нужно. Теперь можно в цикле построить графики для всех станций. "
   ]
  },
  {
   "cell_type": "code",
   "execution_count": 8,
   "metadata": {},
   "outputs": [
    {
     "data": {
      "application/vnd.jupyter.widget-view+json": {
       "model_id": "9a3f5865f40b459f833b94e0ee4f7401",
       "version_major": 2,
       "version_minor": 0
      },
      "text/plain": [
       "  0%|          | 0/5 [00:00<?, ?it/s]"
      ]
     },
     "metadata": {},
     "output_type": "display_data"
    },
    {
     "name": "stdout",
     "output_type": "stream",
     "text": [
      "Уже загрузили 100 файлов.\n",
      "Осталось загрузить ещё 5 файлов.\n",
      "\n",
      "Уже загрузили 101 файлов.\n",
      "Осталось загрузить ещё 4 файлов.\n",
      "\n",
      "Уже загрузили 102 файлов.\n",
      "Осталось загрузить ещё 3 файлов.\n",
      "\n",
      "Уже загрузили 103 файлов.\n",
      "Осталось загрузить ещё 2 файлов.\n",
      "\n",
      "Уже загрузили 104 файлов.\n",
      "Осталось загрузить ещё 1 файлов.\n",
      "\n"
     ]
    }
   ],
   "source": [
    "files = os.listdir(raw_csv_path)\n",
    "a = 100 #files.index()\n",
    "files_count = 0\n",
    "\n",
    "for file in tqdm(files[a:]):\n",
    "    files_count += 1\n",
    "    df5 = pd.read_csv(raw_csv_path + file)\n",
    "    df5['time'] = df5['time'].apply(lambda x: pd.Timestamp(x))\n",
    "    columns = list(df5.columns)[1:]\n",
    "    date = str(df5['time'][0].date())\n",
    "    \n",
    "    for three_cols in range(0,len(columns),3):\n",
    "        fig, axs = plt.subplots(nrows=3, ncols=1, figsize=(12, 7))\n",
    "\n",
    "        column = columns[three_cols]\n",
    "        axs[0].grid(color=\"blue\", which=\"both\", linestyle=':', linewidth=0.5)\n",
    "        axs[0].plot(df5['time'], np.array(df5[column]), '-',color = 'grey')\n",
    "        axs[0].set_xlabel('Time')\n",
    "        axs[0].set_title(column + ', ' + date)\n",
    "\n",
    "\n",
    "        column = columns[three_cols+1]\n",
    "        axs[1].grid(color=\"blue\", which=\"both\", linestyle=':', linewidth=0.5)\n",
    "        axs[1].plot(df5['time'], np.array(df5[column]), '-',color = 'green')\n",
    "        axs[1].set_xlabel('Time')\n",
    "        axs[1].set_title(column + ', ' + date)\n",
    "\n",
    "\n",
    "        column = columns[three_cols+2]\n",
    "        axs[2].grid(color=\"blue\", which=\"both\", linestyle=':', linewidth=0.5)\n",
    "        axs[2].plot(df5['time'], np.array(df5[column]), '-',color = 'purple')\n",
    "        axs[2].set_xlabel('Time')\n",
    "        axs[2].set_title(column + ', ' + date)\n",
    "\n",
    "\n",
    "        plt.tight_layout()\n",
    "        \n",
    "        if (OS == 'Windows'):\n",
    "            directory = str(df5['time'][0]) + \"\\\\\" # для Windows '\\\\'\n",
    "            directory = directory.replace(\":\",\"_\") # только для Windows делаем, т.к. папки в Windows нельзя называть с ':'\n",
    "        else:\n",
    "            directory = str(df5['time'][0]) + \"/\" # для Linux '/'\n",
    "        \n",
    "        path2 = os.path.join(path_image,directory)\n",
    "        try: \n",
    "            os.makedirs(path2) \n",
    "        except OSError as error: \n",
    "            pass\n",
    "        \n",
    "        \n",
    "        fig.savefig(path2 + '{}.jpeg'.format(column[:3]),dpi=100)\n",
    "        plt.cla()\n",
    "        plt.clf()\n",
    "        fig.clf()\n",
    "        plt.close('all')\n",
    "        plt.close(fig)\n",
    "        plt.close()\n",
    "\n",
    "    plt.cla()\n",
    "    plt.clf()\n",
    "    fig.clf()\n",
    "    plt.close('all')\n",
    "    plt.close(fig)\n",
    "    plt.close()\n",
    "    \n",
    "    print('Уже загрузили {} файлов.'.format(files.index(file)))\n",
    "    print('Осталось загрузить ещё {} файлов.\\n'.format(len(files)-files.index(file)))\n"
   ]
  },
  {
   "cell_type": "code",
   "execution_count": 9,
   "metadata": {},
   "outputs": [
    {
     "name": "stdout",
     "output_type": "stream",
     "text": [
      "Построенные графики можно посмотреть в директории:\n",
      " /home/kl/Рабочий стол/Diploma_master/graph_images/graph_images_bandpass/\n"
     ]
    }
   ],
   "source": [
    "print('Построенные графики можно посмотреть в директории:\\n',path_image)"
   ]
  },
  {
   "cell_type": "markdown",
   "metadata": {
    "collapsed": true
   },
   "source": [
    "[В начало](#Подготовка-и-визуализация-данных)\n",
    "\n",
    "<div class=\"alert alert-block alert-success\">\n",
    "<b>Результат работы программы.</b> \n",
    "<ol>\n",
    " <li>Считали исходные данные формата miniSEED, разобрались в их структуре. </li>\n",
    " <li>Конвертировали данные из miniSEED в csv-формат. </li>\n",
    " <li>Построили графики для каждой станции из каждого файла, сохранили эти графики в папки.</li>\n",
    "</ol>\n",
    "</div>\n",
    "\n",
    "- [x] Подготовить данные для работы, перевести их в формат csv\n",
    "- [x] Визуализировать данные\n",
    "- [ ] Разметить файлы, опираясь на их визуализацию\n",
    "- [ ] Объединить файлы в датафрейм\n",
    "- [ ] Обучить модели, выявить лучшую\n",
    "- [ ] Протестировать модель, дать оценку"
   ]
  }
 ],
 "metadata": {
  "kernelspec": {
   "display_name": "Python 3",
   "language": "python",
   "name": "python3"
  },
  "language_info": {
   "codemirror_mode": {
    "name": "ipython",
    "version": 3
   },
   "file_extension": ".py",
   "mimetype": "text/x-python",
   "name": "python",
   "nbconvert_exporter": "python",
   "pygments_lexer": "ipython3",
   "version": "3.8.5"
  }
 },
 "nbformat": 4,
 "nbformat_minor": 2
}
